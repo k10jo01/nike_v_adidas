{
 "cells": [
  {
   "cell_type": "code",
   "execution_count": 1,
   "metadata": {
    "scrolled": true
   },
   "outputs": [],
   "source": [
    "# import libraries\n",
    "import pandas as pd\n",
    "import requests\n",
    "import time\n",
    "import datetime as dt"
   ]
  },
  {
   "cell_type": "code",
   "execution_count": 2,
   "metadata": {
    "scrolled": true
   },
   "outputs": [],
   "source": [
    "def query_pushshift(subreddit, kind='submission', skip=1, times=3, start=1,\n",
    "                    subfield = ['title', 'selftext', 'subreddit', 'created_utc', 'author', 'num_comments', 'score', 'is_self'],\n",
    "                    comfields = ['body', 'score', 'created_utc']):\n",
    "\n",
    "    stem = \"https://api.pushshift.io/reddit/search/{}/?subreddit={}&size=500\".format(kind, subreddit)\n",
    "    mylist = []\n",
    "    \n",
    "    for x in range(1, times + 1):\n",
    "        \n",
    "        URL = \"{}&after={}d\".format(stem, skip * x)\n",
    "        print(URL)\n",
    "        response = requests.get(URL)\n",
    "        assert response.status_code == 200\n",
    "        mine = response.json()['data']\n",
    "        df = pd.DataFrame.from_dict(mine)\n",
    "        mylist.append(df)\n",
    "        time.sleep(2)\n",
    "        \n",
    "    full = pd.concat(mylist, sort=False)\n",
    "    \n",
    "    if kind == \"submission\":\n",
    "        \n",
    "        full = full[subfield]\n",
    "        \n",
    "        full = full.drop_duplicates()\n",
    "        \n",
    "        full = full.loc[full['is_self'] == True]\n",
    "        \n",
    "    def get_date(created):\n",
    "        return dt.date.fromtimestamp(created)\n",
    "    \n",
    "    _timestamp = full[\"created_utc\"].apply(get_date)\n",
    "    \n",
    "    full['timestamp'] = _timestamp\n",
    "\n",
    "    print(full.shape)\n",
    "    \n",
    "    return full \n",
    "\n",
    "# using this reddit function shared by Josh Robin in class"
   ]
  },
  {
   "cell_type": "code",
   "execution_count": null,
   "metadata": {
    "scrolled": true
   },
   "outputs": [],
   "source": [
    "# run the function for every 30 days back, 10 times"
   ]
  },
  {
   "cell_type": "code",
   "execution_count": null,
   "metadata": {
    "scrolled": false
   },
   "outputs": [],
   "source": [
    "adidas_0 = query_pushshift('adidas')"
   ]
  },
  {
   "cell_type": "code",
   "execution_count": null,
   "metadata": {
    "scrolled": true
   },
   "outputs": [],
   "source": [
    "adidas_0.to_csv('./data/adidas_0.csv')"
   ]
  },
  {
   "cell_type": "code",
   "execution_count": null,
   "metadata": {
    "scrolled": true
   },
   "outputs": [],
   "source": [
    "nike_0 = query_pushshift('nike')"
   ]
  },
  {
   "cell_type": "code",
   "execution_count": null,
   "metadata": {
    "scrolled": true
   },
   "outputs": [],
   "source": [
    "nike_0.to_csv('./data/nike_0.csv')"
   ]
  },
  {
   "cell_type": "code",
   "execution_count": null,
   "metadata": {
    "scrolled": true
   },
   "outputs": [],
   "source": [
    "underarmour_0 = query_pushshift('underarmour')"
   ]
  },
  {
   "cell_type": "code",
   "execution_count": null,
   "metadata": {
    "scrolled": true
   },
   "outputs": [],
   "source": [
    "underarmour_0.to_csv('./data/underarmour_0.csv')"
   ]
  },
  {
   "cell_type": "code",
   "execution_count": null,
   "metadata": {
    "scrolled": true
   },
   "outputs": [],
   "source": [
    "# run the function for every 25 days back, 5 times"
   ]
  },
  {
   "cell_type": "code",
   "execution_count": null,
   "metadata": {
    "scrolled": false
   },
   "outputs": [],
   "source": [
    "adidas_1 = query_pushshift('adidas')"
   ]
  },
  {
   "cell_type": "code",
   "execution_count": null,
   "metadata": {
    "scrolled": true
   },
   "outputs": [],
   "source": [
    "adidas_1.to_csv('./data/adidas_1.csv')"
   ]
  },
  {
   "cell_type": "code",
   "execution_count": null,
   "metadata": {
    "scrolled": true
   },
   "outputs": [],
   "source": [
    "nike_1 = query_pushshift('nike')"
   ]
  },
  {
   "cell_type": "code",
   "execution_count": null,
   "metadata": {
    "scrolled": true
   },
   "outputs": [],
   "source": [
    "nike_1.to_csv('./data/nike_1.csv')"
   ]
  },
  {
   "cell_type": "code",
   "execution_count": null,
   "metadata": {
    "scrolled": true
   },
   "outputs": [],
   "source": [
    "underarmour_1 = query_pushshift('underarmour')"
   ]
  },
  {
   "cell_type": "code",
   "execution_count": null,
   "metadata": {
    "scrolled": true
   },
   "outputs": [],
   "source": [
    "underarmour_1.to_csv('./data/underarmour_1.csv')"
   ]
  },
  {
   "cell_type": "code",
   "execution_count": null,
   "metadata": {
    "scrolled": true
   },
   "outputs": [],
   "source": [
    "# run the function for every 16 days back, 10 times"
   ]
  },
  {
   "cell_type": "code",
   "execution_count": null,
   "metadata": {
    "scrolled": false
   },
   "outputs": [],
   "source": [
    "adidas_2 = query_pushshift('adidas')"
   ]
  },
  {
   "cell_type": "code",
   "execution_count": null,
   "metadata": {
    "scrolled": true
   },
   "outputs": [],
   "source": [
    "adidas_2.to_csv('./data/adidas_2.csv')"
   ]
  },
  {
   "cell_type": "code",
   "execution_count": null,
   "metadata": {
    "scrolled": true
   },
   "outputs": [],
   "source": [
    "nike_2 = query_pushshift('nike')"
   ]
  },
  {
   "cell_type": "code",
   "execution_count": null,
   "metadata": {
    "scrolled": true
   },
   "outputs": [],
   "source": [
    "nike_2.to_csv('./data/nike_2.csv')"
   ]
  },
  {
   "cell_type": "code",
   "execution_count": null,
   "metadata": {
    "scrolled": true
   },
   "outputs": [],
   "source": [
    "underarmour_2 = query_pushshift('underarmour')"
   ]
  },
  {
   "cell_type": "code",
   "execution_count": null,
   "metadata": {
    "scrolled": true
   },
   "outputs": [],
   "source": [
    "underarmour_2.to_csv('./data/underarmour_2.csv')"
   ]
  },
  {
   "cell_type": "code",
   "execution_count": null,
   "metadata": {
    "scrolled": true
   },
   "outputs": [],
   "source": [
    "# run the function for every 41 days back, 10 times"
   ]
  },
  {
   "cell_type": "code",
   "execution_count": null,
   "metadata": {
    "scrolled": true
   },
   "outputs": [],
   "source": [
    "adidas_3 = query_pushshift('adidas')"
   ]
  },
  {
   "cell_type": "code",
   "execution_count": null,
   "metadata": {
    "scrolled": true
   },
   "outputs": [],
   "source": [
    "adidas_3.to_csv('./data/adidas_3.csv')"
   ]
  },
  {
   "cell_type": "code",
   "execution_count": null,
   "metadata": {
    "scrolled": true
   },
   "outputs": [],
   "source": [
    "nike_3 = query_pushshift('nike')"
   ]
  },
  {
   "cell_type": "code",
   "execution_count": null,
   "metadata": {
    "scrolled": true
   },
   "outputs": [],
   "source": [
    "nike_3.to_csv('./data/nike_3.csv')"
   ]
  },
  {
   "cell_type": "code",
   "execution_count": null,
   "metadata": {
    "scrolled": true
   },
   "outputs": [],
   "source": [
    "underarmour_3 = query_pushshift('underarmour')"
   ]
  },
  {
   "cell_type": "code",
   "execution_count": null,
   "metadata": {
    "scrolled": true
   },
   "outputs": [],
   "source": [
    "underarmour_3.to_csv('./data/underarmour_3.csv')"
   ]
  },
  {
   "cell_type": "code",
   "execution_count": null,
   "metadata": {
    "scrolled": true
   },
   "outputs": [],
   "source": [
    "# run the function for every 34 days back, 10 times"
   ]
  },
  {
   "cell_type": "code",
   "execution_count": null,
   "metadata": {
    "scrolled": true
   },
   "outputs": [],
   "source": [
    "adidas_4 = query_pushshift('adidas')"
   ]
  },
  {
   "cell_type": "code",
   "execution_count": null,
   "metadata": {
    "scrolled": true
   },
   "outputs": [],
   "source": [
    "adidas_4.to_csv('./data/adidas_4.csv')"
   ]
  },
  {
   "cell_type": "code",
   "execution_count": null,
   "metadata": {
    "scrolled": true
   },
   "outputs": [],
   "source": [
    "nike_4 = query_pushshift('nike')"
   ]
  },
  {
   "cell_type": "code",
   "execution_count": null,
   "metadata": {
    "scrolled": true
   },
   "outputs": [],
   "source": [
    "nike_4.to_csv('./data/nike_4.csv')"
   ]
  },
  {
   "cell_type": "code",
   "execution_count": null,
   "metadata": {
    "scrolled": true
   },
   "outputs": [],
   "source": [
    "underarmour_4 = query_pushshift('underarmour')"
   ]
  },
  {
   "cell_type": "code",
   "execution_count": null,
   "metadata": {
    "scrolled": true
   },
   "outputs": [],
   "source": [
    "underarmour_4.to_csv('./data/underarmour_4.csv')"
   ]
  },
  {
   "cell_type": "code",
   "execution_count": null,
   "metadata": {
    "scrolled": true
   },
   "outputs": [],
   "source": [
    "# run the function for every 37 days back, 10 times"
   ]
  },
  {
   "cell_type": "code",
   "execution_count": null,
   "metadata": {
    "scrolled": true
   },
   "outputs": [],
   "source": [
    "adidas_5 = query_pushshift('adidas')"
   ]
  },
  {
   "cell_type": "code",
   "execution_count": null,
   "metadata": {
    "scrolled": true
   },
   "outputs": [],
   "source": [
    "adidas_5.to_csv('./data/adidas_5.csv')"
   ]
  },
  {
   "cell_type": "code",
   "execution_count": null,
   "metadata": {
    "scrolled": true
   },
   "outputs": [],
   "source": [
    "nike_5 = query_pushshift('nike')"
   ]
  },
  {
   "cell_type": "code",
   "execution_count": null,
   "metadata": {
    "scrolled": true
   },
   "outputs": [],
   "source": [
    "nike_5.to_csv('./data/nike_5.csv')"
   ]
  },
  {
   "cell_type": "code",
   "execution_count": null,
   "metadata": {
    "scrolled": true
   },
   "outputs": [],
   "source": [
    "underarmour_5 = query_pushshift('underarmour')"
   ]
  },
  {
   "cell_type": "code",
   "execution_count": null,
   "metadata": {
    "scrolled": true
   },
   "outputs": [],
   "source": [
    "underarmour_5.to_csv('./data/underarmour_5.csv')"
   ]
  },
  {
   "cell_type": "code",
   "execution_count": null,
   "metadata": {
    "scrolled": true
   },
   "outputs": [],
   "source": [
    "# join all dataframes together"
   ]
  },
  {
   "cell_type": "code",
   "execution_count": null,
   "metadata": {
    "scrolled": true
   },
   "outputs": [],
   "source": [
    "adidas.head()"
   ]
  },
  {
   "cell_type": "code",
   "execution_count": null,
   "metadata": {
    "scrolled": false
   },
   "outputs": [],
   "source": [
    "adidas_1.head()"
   ]
  },
  {
   "cell_type": "code",
   "execution_count": null,
   "metadata": {
    "scrolled": true
   },
   "outputs": [],
   "source": [
    "adidas.shape"
   ]
  },
  {
   "cell_type": "code",
   "execution_count": null,
   "metadata": {
    "scrolled": true
   },
   "outputs": [],
   "source": [
    "adidas_1.shape"
   ]
  },
  {
   "cell_type": "code",
   "execution_count": null,
   "metadata": {
    "scrolled": true
   },
   "outputs": [],
   "source": [
    "1016 + 479"
   ]
  },
  {
   "cell_type": "code",
   "execution_count": null,
   "metadata": {
    "scrolled": true
   },
   "outputs": [],
   "source": [
    "adidas = pd.concat([adidas, adidas_1])"
   ]
  },
  {
   "cell_type": "code",
   "execution_count": null,
   "metadata": {
    "scrolled": true
   },
   "outputs": [],
   "source": [
    "adidas.shape"
   ]
  },
  {
   "cell_type": "code",
   "execution_count": null,
   "metadata": {
    "scrolled": true
   },
   "outputs": [],
   "source": [
    "adidas_2.shape"
   ]
  },
  {
   "cell_type": "code",
   "execution_count": null,
   "metadata": {
    "scrolled": true
   },
   "outputs": [],
   "source": [
    "1495 + 601"
   ]
  },
  {
   "cell_type": "code",
   "execution_count": null,
   "metadata": {
    "scrolled": true
   },
   "outputs": [],
   "source": [
    "adidas = pd.concat([adidas, adidas_2])"
   ]
  },
  {
   "cell_type": "code",
   "execution_count": null,
   "metadata": {
    "scrolled": true
   },
   "outputs": [],
   "source": [
    "adidas.shape"
   ]
  },
  {
   "cell_type": "code",
   "execution_count": null,
   "metadata": {
    "scrolled": true
   },
   "outputs": [],
   "source": [
    "adidas_3.shape"
   ]
  },
  {
   "cell_type": "code",
   "execution_count": null,
   "metadata": {
    "scrolled": true
   },
   "outputs": [],
   "source": [
    "2096 + 1373"
   ]
  },
  {
   "cell_type": "code",
   "execution_count": null,
   "metadata": {
    "scrolled": true
   },
   "outputs": [],
   "source": [
    "adidas = pd.concat([adidas, adidas_3])"
   ]
  },
  {
   "cell_type": "code",
   "execution_count": null,
   "metadata": {
    "scrolled": true
   },
   "outputs": [],
   "source": [
    "adidas.shape"
   ]
  },
  {
   "cell_type": "code",
   "execution_count": null,
   "metadata": {
    "scrolled": true
   },
   "outputs": [],
   "source": [
    "adidas_4.shape"
   ]
  },
  {
   "cell_type": "code",
   "execution_count": null,
   "metadata": {
    "scrolled": true
   },
   "outputs": [],
   "source": [
    "3469 + 1154"
   ]
  },
  {
   "cell_type": "code",
   "execution_count": null,
   "metadata": {
    "scrolled": true
   },
   "outputs": [],
   "source": [
    "adidas = pd.concat([adidas, adidas_4])"
   ]
  },
  {
   "cell_type": "code",
   "execution_count": null,
   "metadata": {
    "scrolled": true
   },
   "outputs": [],
   "source": [
    "adidas.shape"
   ]
  },
  {
   "cell_type": "code",
   "execution_count": null,
   "metadata": {
    "scrolled": true
   },
   "outputs": [],
   "source": [
    "adidas_5.shape"
   ]
  },
  {
   "cell_type": "code",
   "execution_count": null,
   "metadata": {
    "scrolled": true
   },
   "outputs": [],
   "source": [
    "4623+1236"
   ]
  },
  {
   "cell_type": "code",
   "execution_count": null,
   "metadata": {
    "scrolled": true
   },
   "outputs": [],
   "source": [
    "adidas = pd.concat([adidas, adidas_5])"
   ]
  },
  {
   "cell_type": "code",
   "execution_count": null,
   "metadata": {
    "scrolled": true
   },
   "outputs": [],
   "source": [
    "adidas.shape"
   ]
  },
  {
   "cell_type": "code",
   "execution_count": null,
   "metadata": {
    "scrolled": true
   },
   "outputs": [],
   "source": [
    "adidas.to_csv('./data/adidas.csv')"
   ]
  },
  {
   "cell_type": "code",
   "execution_count": null,
   "metadata": {
    "scrolled": true
   },
   "outputs": [],
   "source": [
    "nike.shape"
   ]
  },
  {
   "cell_type": "code",
   "execution_count": null,
   "metadata": {
    "scrolled": true
   },
   "outputs": [],
   "source": [
    "nike_1.shape"
   ]
  },
  {
   "cell_type": "code",
   "execution_count": null,
   "metadata": {
    "scrolled": true
   },
   "outputs": [],
   "source": [
    "1180 + 554"
   ]
  },
  {
   "cell_type": "code",
   "execution_count": null,
   "metadata": {
    "scrolled": true
   },
   "outputs": [],
   "source": [
    "nike = pd.concat([nike, nike_1])"
   ]
  },
  {
   "cell_type": "code",
   "execution_count": null,
   "metadata": {
    "scrolled": true
   },
   "outputs": [],
   "source": [
    "nike.shape"
   ]
  },
  {
   "cell_type": "code",
   "execution_count": null,
   "metadata": {
    "scrolled": true
   },
   "outputs": [],
   "source": [
    "nike_2.shape"
   ]
  },
  {
   "cell_type": "code",
   "execution_count": null,
   "metadata": {
    "scrolled": true
   },
   "outputs": [],
   "source": [
    "1734 + 681"
   ]
  },
  {
   "cell_type": "code",
   "execution_count": null,
   "metadata": {
    "scrolled": true
   },
   "outputs": [],
   "source": [
    "nike = pd.concat([nike, nike_2])"
   ]
  },
  {
   "cell_type": "code",
   "execution_count": null,
   "metadata": {
    "scrolled": true
   },
   "outputs": [],
   "source": [
    "nike.shape"
   ]
  },
  {
   "cell_type": "code",
   "execution_count": null,
   "metadata": {
    "scrolled": true
   },
   "outputs": [],
   "source": [
    "nike_3.shape"
   ]
  },
  {
   "cell_type": "code",
   "execution_count": null,
   "metadata": {
    "scrolled": true
   },
   "outputs": [],
   "source": [
    "2415 + 1357"
   ]
  },
  {
   "cell_type": "code",
   "execution_count": null,
   "metadata": {
    "scrolled": true
   },
   "outputs": [],
   "source": [
    "nike = pd.concat([nike, nike_3])"
   ]
  },
  {
   "cell_type": "code",
   "execution_count": null,
   "metadata": {
    "scrolled": true
   },
   "outputs": [],
   "source": [
    "nike.shape"
   ]
  },
  {
   "cell_type": "code",
   "execution_count": null,
   "metadata": {
    "scrolled": true
   },
   "outputs": [],
   "source": [
    "nike_4.shape"
   ]
  },
  {
   "cell_type": "code",
   "execution_count": null,
   "metadata": {
    "scrolled": true
   },
   "outputs": [],
   "source": [
    "3772 + 1269"
   ]
  },
  {
   "cell_type": "code",
   "execution_count": null,
   "metadata": {
    "scrolled": true
   },
   "outputs": [],
   "source": [
    "nike = pd.concat([nike, nike_4])"
   ]
  },
  {
   "cell_type": "code",
   "execution_count": null,
   "metadata": {
    "scrolled": true
   },
   "outputs": [],
   "source": [
    "nike.shape"
   ]
  },
  {
   "cell_type": "code",
   "execution_count": null,
   "metadata": {
    "scrolled": true
   },
   "outputs": [],
   "source": [
    "nike_5.shape"
   ]
  },
  {
   "cell_type": "code",
   "execution_count": null,
   "metadata": {
    "scrolled": true
   },
   "outputs": [],
   "source": [
    "5041 + 1314"
   ]
  },
  {
   "cell_type": "code",
   "execution_count": null,
   "metadata": {
    "scrolled": true
   },
   "outputs": [],
   "source": [
    "nike = pd.concat([nike, nike_5])"
   ]
  },
  {
   "cell_type": "code",
   "execution_count": null,
   "metadata": {
    "scrolled": true
   },
   "outputs": [],
   "source": [
    "nike.shape"
   ]
  },
  {
   "cell_type": "code",
   "execution_count": null,
   "metadata": {
    "scrolled": true
   },
   "outputs": [],
   "source": [
    "nike.to_csv('./data/nike.csv')"
   ]
  },
  {
   "cell_type": "code",
   "execution_count": null,
   "metadata": {
    "scrolled": true
   },
   "outputs": [],
   "source": [
    "adidas"
   ]
  },
  {
   "cell_type": "code",
   "execution_count": null,
   "metadata": {
    "scrolled": true
   },
   "outputs": [],
   "source": [
    "nike"
   ]
  },
  {
   "cell_type": "code",
   "execution_count": null,
   "metadata": {
    "scrolled": true
   },
   "outputs": [],
   "source": [
    "adidas['subreddit'].value_counts()"
   ]
  },
  {
   "cell_type": "code",
   "execution_count": null,
   "metadata": {
    "scrolled": true
   },
   "outputs": [],
   "source": [
    "nike['subreddit'].value_counts()"
   ]
  },
  {
   "cell_type": "code",
   "execution_count": null,
   "metadata": {
    "scrolled": true
   },
   "outputs": [],
   "source": [
    "adidas.isnull().sum()"
   ]
  },
  {
   "cell_type": "code",
   "execution_count": null,
   "metadata": {
    "scrolled": true
   },
   "outputs": [],
   "source": [
    "nike.isnull().sum()"
   ]
  },
  {
   "cell_type": "code",
   "execution_count": null,
   "metadata": {
    "scrolled": true
   },
   "outputs": [],
   "source": [
    "brands = pd.concat([nike, adidas])"
   ]
  },
  {
   "cell_type": "code",
   "execution_count": null,
   "metadata": {
    "scrolled": true
   },
   "outputs": [],
   "source": [
    "brands"
   ]
  },
  {
   "cell_type": "code",
   "execution_count": null,
   "metadata": {
    "scrolled": true
   },
   "outputs": [],
   "source": [
    "brands['is_self'].value_counts()"
   ]
  },
  {
   "cell_type": "code",
   "execution_count": null,
   "metadata": {
    "scrolled": true
   },
   "outputs": [],
   "source": [
    "brands.to_csv('./data/brands.csv')"
   ]
  },
  {
   "cell_type": "code",
   "execution_count": null,
   "metadata": {
    "scrolled": true
   },
   "outputs": [],
   "source": [
    "underarmour = pd.concat([underarmour_0, underarmour_1])"
   ]
  },
  {
   "cell_type": "code",
   "execution_count": null,
   "metadata": {
    "scrolled": true
   },
   "outputs": [],
   "source": [
    "underarmour = pd.concat([underarmour, underarmour_2])"
   ]
  },
  {
   "cell_type": "code",
   "execution_count": null,
   "metadata": {
    "scrolled": true
   },
   "outputs": [],
   "source": [
    "underarmour = pd.concat([underarmour, underarmour_3])"
   ]
  },
  {
   "cell_type": "code",
   "execution_count": null,
   "metadata": {
    "scrolled": true
   },
   "outputs": [],
   "source": [
    "underarmour = pd.concat([underarmour, underarmour_4])"
   ]
  },
  {
   "cell_type": "code",
   "execution_count": null,
   "metadata": {
    "scrolled": true
   },
   "outputs": [],
   "source": [
    "underarmour = pd.concat([underarmour, underarmour_5])"
   ]
  },
  {
   "cell_type": "code",
   "execution_count": null,
   "metadata": {
    "scrolled": true
   },
   "outputs": [],
   "source": [
    "underarmour.shape"
   ]
  },
  {
   "cell_type": "code",
   "execution_count": null,
   "metadata": {
    "scrolled": true
   },
   "outputs": [],
   "source": [
    "underarmour.head()"
   ]
  },
  {
   "cell_type": "code",
   "execution_count": null,
   "metadata": {
    "scrolled": true
   },
   "outputs": [],
   "source": [
    "underarmour.to_csv('./data/underarmour.csv')"
   ]
  },
  {
   "cell_type": "code",
   "execution_count": 5,
   "metadata": {
    "scrolled": true
   },
   "outputs": [
    {
     "name": "stdout",
     "output_type": "stream",
     "text": [
      "https://api.pushshift.io/reddit/search/submission/?subreddit=nike&size=500&after=1d\n",
      "https://api.pushshift.io/reddit/search/submission/?subreddit=nike&size=500&after=2d\n",
      "https://api.pushshift.io/reddit/search/submission/?subreddit=nike&size=500&after=3d\n",
      "https://api.pushshift.io/reddit/search/submission/?subreddit=nike&size=500&after=4d\n",
      "https://api.pushshift.io/reddit/search/submission/?subreddit=nike&size=500&after=5d\n",
      "https://api.pushshift.io/reddit/search/submission/?subreddit=nike&size=500&after=6d\n",
      "https://api.pushshift.io/reddit/search/submission/?subreddit=nike&size=500&after=7d\n",
      "https://api.pushshift.io/reddit/search/submission/?subreddit=nike&size=500&after=8d\n",
      "https://api.pushshift.io/reddit/search/submission/?subreddit=nike&size=500&after=9d\n",
      "https://api.pushshift.io/reddit/search/submission/?subreddit=nike&size=500&after=10d\n",
      "https://api.pushshift.io/reddit/search/submission/?subreddit=nike&size=500&after=11d\n",
      "https://api.pushshift.io/reddit/search/submission/?subreddit=nike&size=500&after=12d\n",
      "https://api.pushshift.io/reddit/search/submission/?subreddit=nike&size=500&after=13d\n",
      "https://api.pushshift.io/reddit/search/submission/?subreddit=nike&size=500&after=14d\n",
      "https://api.pushshift.io/reddit/search/submission/?subreddit=nike&size=500&after=15d\n",
      "https://api.pushshift.io/reddit/search/submission/?subreddit=nike&size=500&after=16d\n",
      "https://api.pushshift.io/reddit/search/submission/?subreddit=nike&size=500&after=17d\n",
      "https://api.pushshift.io/reddit/search/submission/?subreddit=nike&size=500&after=18d\n",
      "https://api.pushshift.io/reddit/search/submission/?subreddit=nike&size=500&after=19d\n",
      "https://api.pushshift.io/reddit/search/submission/?subreddit=nike&size=500&after=20d\n",
      "https://api.pushshift.io/reddit/search/submission/?subreddit=nike&size=500&after=21d\n",
      "https://api.pushshift.io/reddit/search/submission/?subreddit=nike&size=500&after=22d\n",
      "https://api.pushshift.io/reddit/search/submission/?subreddit=nike&size=500&after=23d\n",
      "https://api.pushshift.io/reddit/search/submission/?subreddit=nike&size=500&after=24d\n",
      "https://api.pushshift.io/reddit/search/submission/?subreddit=nike&size=500&after=25d\n",
      "https://api.pushshift.io/reddit/search/submission/?subreddit=nike&size=500&after=26d\n",
      "https://api.pushshift.io/reddit/search/submission/?subreddit=nike&size=500&after=27d\n",
      "https://api.pushshift.io/reddit/search/submission/?subreddit=nike&size=500&after=28d\n",
      "https://api.pushshift.io/reddit/search/submission/?subreddit=nike&size=500&after=29d\n",
      "https://api.pushshift.io/reddit/search/submission/?subreddit=nike&size=500&after=30d\n",
      "https://api.pushshift.io/reddit/search/submission/?subreddit=nike&size=500&after=31d\n",
      "https://api.pushshift.io/reddit/search/submission/?subreddit=nike&size=500&after=32d\n",
      "https://api.pushshift.io/reddit/search/submission/?subreddit=nike&size=500&after=33d\n",
      "https://api.pushshift.io/reddit/search/submission/?subreddit=nike&size=500&after=34d\n",
      "https://api.pushshift.io/reddit/search/submission/?subreddit=nike&size=500&after=35d\n",
      "https://api.pushshift.io/reddit/search/submission/?subreddit=nike&size=500&after=36d\n",
      "https://api.pushshift.io/reddit/search/submission/?subreddit=nike&size=500&after=37d\n",
      "https://api.pushshift.io/reddit/search/submission/?subreddit=nike&size=500&after=38d\n",
      "https://api.pushshift.io/reddit/search/submission/?subreddit=nike&size=500&after=39d\n",
      "https://api.pushshift.io/reddit/search/submission/?subreddit=nike&size=500&after=40d\n",
      "https://api.pushshift.io/reddit/search/submission/?subreddit=nike&size=500&after=41d\n",
      "https://api.pushshift.io/reddit/search/submission/?subreddit=nike&size=500&after=42d\n",
      "https://api.pushshift.io/reddit/search/submission/?subreddit=nike&size=500&after=43d\n",
      "https://api.pushshift.io/reddit/search/submission/?subreddit=nike&size=500&after=44d\n",
      "https://api.pushshift.io/reddit/search/submission/?subreddit=nike&size=500&after=45d\n",
      "https://api.pushshift.io/reddit/search/submission/?subreddit=nike&size=500&after=46d\n",
      "https://api.pushshift.io/reddit/search/submission/?subreddit=nike&size=500&after=47d\n",
      "https://api.pushshift.io/reddit/search/submission/?subreddit=nike&size=500&after=48d\n",
      "https://api.pushshift.io/reddit/search/submission/?subreddit=nike&size=500&after=49d\n",
      "https://api.pushshift.io/reddit/search/submission/?subreddit=nike&size=500&after=50d\n",
      "https://api.pushshift.io/reddit/search/submission/?subreddit=nike&size=500&after=51d\n",
      "https://api.pushshift.io/reddit/search/submission/?subreddit=nike&size=500&after=52d\n",
      "https://api.pushshift.io/reddit/search/submission/?subreddit=nike&size=500&after=53d\n",
      "https://api.pushshift.io/reddit/search/submission/?subreddit=nike&size=500&after=54d\n",
      "https://api.pushshift.io/reddit/search/submission/?subreddit=nike&size=500&after=55d\n",
      "https://api.pushshift.io/reddit/search/submission/?subreddit=nike&size=500&after=56d\n",
      "https://api.pushshift.io/reddit/search/submission/?subreddit=nike&size=500&after=57d\n",
      "https://api.pushshift.io/reddit/search/submission/?subreddit=nike&size=500&after=58d\n",
      "https://api.pushshift.io/reddit/search/submission/?subreddit=nike&size=500&after=59d\n",
      "https://api.pushshift.io/reddit/search/submission/?subreddit=nike&size=500&after=60d\n",
      "https://api.pushshift.io/reddit/search/submission/?subreddit=nike&size=500&after=61d\n",
      "https://api.pushshift.io/reddit/search/submission/?subreddit=nike&size=500&after=62d\n",
      "https://api.pushshift.io/reddit/search/submission/?subreddit=nike&size=500&after=63d\n",
      "https://api.pushshift.io/reddit/search/submission/?subreddit=nike&size=500&after=64d\n",
      "https://api.pushshift.io/reddit/search/submission/?subreddit=nike&size=500&after=65d\n",
      "https://api.pushshift.io/reddit/search/submission/?subreddit=nike&size=500&after=66d\n",
      "https://api.pushshift.io/reddit/search/submission/?subreddit=nike&size=500&after=67d\n",
      "https://api.pushshift.io/reddit/search/submission/?subreddit=nike&size=500&after=68d\n",
      "https://api.pushshift.io/reddit/search/submission/?subreddit=nike&size=500&after=69d\n",
      "https://api.pushshift.io/reddit/search/submission/?subreddit=nike&size=500&after=70d\n",
      "https://api.pushshift.io/reddit/search/submission/?subreddit=nike&size=500&after=71d\n",
      "https://api.pushshift.io/reddit/search/submission/?subreddit=nike&size=500&after=72d\n",
      "https://api.pushshift.io/reddit/search/submission/?subreddit=nike&size=500&after=73d\n",
      "https://api.pushshift.io/reddit/search/submission/?subreddit=nike&size=500&after=74d\n",
      "https://api.pushshift.io/reddit/search/submission/?subreddit=nike&size=500&after=75d\n",
      "https://api.pushshift.io/reddit/search/submission/?subreddit=nike&size=500&after=76d\n",
      "https://api.pushshift.io/reddit/search/submission/?subreddit=nike&size=500&after=77d\n",
      "https://api.pushshift.io/reddit/search/submission/?subreddit=nike&size=500&after=78d\n",
      "https://api.pushshift.io/reddit/search/submission/?subreddit=nike&size=500&after=79d\n",
      "https://api.pushshift.io/reddit/search/submission/?subreddit=nike&size=500&after=80d\n",
      "https://api.pushshift.io/reddit/search/submission/?subreddit=nike&size=500&after=81d\n",
      "https://api.pushshift.io/reddit/search/submission/?subreddit=nike&size=500&after=82d\n",
      "https://api.pushshift.io/reddit/search/submission/?subreddit=nike&size=500&after=83d\n",
      "https://api.pushshift.io/reddit/search/submission/?subreddit=nike&size=500&after=84d\n",
      "https://api.pushshift.io/reddit/search/submission/?subreddit=nike&size=500&after=85d\n",
      "https://api.pushshift.io/reddit/search/submission/?subreddit=nike&size=500&after=86d\n",
      "https://api.pushshift.io/reddit/search/submission/?subreddit=nike&size=500&after=87d\n",
      "https://api.pushshift.io/reddit/search/submission/?subreddit=nike&size=500&after=88d\n",
      "https://api.pushshift.io/reddit/search/submission/?subreddit=nike&size=500&after=89d\n",
      "https://api.pushshift.io/reddit/search/submission/?subreddit=nike&size=500&after=90d\n",
      "https://api.pushshift.io/reddit/search/submission/?subreddit=nike&size=500&after=91d\n",
      "https://api.pushshift.io/reddit/search/submission/?subreddit=nike&size=500&after=92d\n",
      "https://api.pushshift.io/reddit/search/submission/?subreddit=nike&size=500&after=93d\n",
      "https://api.pushshift.io/reddit/search/submission/?subreddit=nike&size=500&after=94d\n",
      "https://api.pushshift.io/reddit/search/submission/?subreddit=nike&size=500&after=95d\n",
      "https://api.pushshift.io/reddit/search/submission/?subreddit=nike&size=500&after=96d\n",
      "https://api.pushshift.io/reddit/search/submission/?subreddit=nike&size=500&after=97d\n"
     ]
    },
    {
     "name": "stdout",
     "output_type": "stream",
     "text": [
      "https://api.pushshift.io/reddit/search/submission/?subreddit=nike&size=500&after=98d\n",
      "https://api.pushshift.io/reddit/search/submission/?subreddit=nike&size=500&after=99d\n",
      "https://api.pushshift.io/reddit/search/submission/?subreddit=nike&size=500&after=100d\n",
      "(474, 9)\n"
     ]
    }
   ],
   "source": [
    "nike_6 = query_pushshift('nike', kind='submission', skip=1, times=100, start=1)"
   ]
  },
  {
   "cell_type": "code",
   "execution_count": 4,
   "metadata": {
    "scrolled": true
   },
   "outputs": [
    {
     "name": "stdout",
     "output_type": "stream",
     "text": [
      "https://api.pushshift.io/reddit/search/submission/?subreddit=adidas&size=500&after=1d\n",
      "https://api.pushshift.io/reddit/search/submission/?subreddit=adidas&size=500&after=2d\n",
      "https://api.pushshift.io/reddit/search/submission/?subreddit=adidas&size=500&after=3d\n",
      "https://api.pushshift.io/reddit/search/submission/?subreddit=adidas&size=500&after=4d\n",
      "https://api.pushshift.io/reddit/search/submission/?subreddit=adidas&size=500&after=5d\n",
      "https://api.pushshift.io/reddit/search/submission/?subreddit=adidas&size=500&after=6d\n",
      "https://api.pushshift.io/reddit/search/submission/?subreddit=adidas&size=500&after=7d\n",
      "https://api.pushshift.io/reddit/search/submission/?subreddit=adidas&size=500&after=8d\n",
      "https://api.pushshift.io/reddit/search/submission/?subreddit=adidas&size=500&after=9d\n",
      "https://api.pushshift.io/reddit/search/submission/?subreddit=adidas&size=500&after=10d\n",
      "https://api.pushshift.io/reddit/search/submission/?subreddit=adidas&size=500&after=11d\n",
      "https://api.pushshift.io/reddit/search/submission/?subreddit=adidas&size=500&after=12d\n",
      "https://api.pushshift.io/reddit/search/submission/?subreddit=adidas&size=500&after=13d\n",
      "https://api.pushshift.io/reddit/search/submission/?subreddit=adidas&size=500&after=14d\n",
      "https://api.pushshift.io/reddit/search/submission/?subreddit=adidas&size=500&after=15d\n",
      "https://api.pushshift.io/reddit/search/submission/?subreddit=adidas&size=500&after=16d\n",
      "https://api.pushshift.io/reddit/search/submission/?subreddit=adidas&size=500&after=17d\n",
      "https://api.pushshift.io/reddit/search/submission/?subreddit=adidas&size=500&after=18d\n",
      "https://api.pushshift.io/reddit/search/submission/?subreddit=adidas&size=500&after=19d\n",
      "https://api.pushshift.io/reddit/search/submission/?subreddit=adidas&size=500&after=20d\n",
      "https://api.pushshift.io/reddit/search/submission/?subreddit=adidas&size=500&after=21d\n",
      "https://api.pushshift.io/reddit/search/submission/?subreddit=adidas&size=500&after=22d\n",
      "https://api.pushshift.io/reddit/search/submission/?subreddit=adidas&size=500&after=23d\n",
      "https://api.pushshift.io/reddit/search/submission/?subreddit=adidas&size=500&after=24d\n",
      "https://api.pushshift.io/reddit/search/submission/?subreddit=adidas&size=500&after=25d\n",
      "https://api.pushshift.io/reddit/search/submission/?subreddit=adidas&size=500&after=26d\n",
      "https://api.pushshift.io/reddit/search/submission/?subreddit=adidas&size=500&after=27d\n",
      "https://api.pushshift.io/reddit/search/submission/?subreddit=adidas&size=500&after=28d\n",
      "https://api.pushshift.io/reddit/search/submission/?subreddit=adidas&size=500&after=29d\n",
      "https://api.pushshift.io/reddit/search/submission/?subreddit=adidas&size=500&after=30d\n",
      "https://api.pushshift.io/reddit/search/submission/?subreddit=adidas&size=500&after=31d\n",
      "https://api.pushshift.io/reddit/search/submission/?subreddit=adidas&size=500&after=32d\n",
      "https://api.pushshift.io/reddit/search/submission/?subreddit=adidas&size=500&after=33d\n",
      "https://api.pushshift.io/reddit/search/submission/?subreddit=adidas&size=500&after=34d\n",
      "https://api.pushshift.io/reddit/search/submission/?subreddit=adidas&size=500&after=35d\n",
      "https://api.pushshift.io/reddit/search/submission/?subreddit=adidas&size=500&after=36d\n",
      "https://api.pushshift.io/reddit/search/submission/?subreddit=adidas&size=500&after=37d\n",
      "https://api.pushshift.io/reddit/search/submission/?subreddit=adidas&size=500&after=38d\n",
      "https://api.pushshift.io/reddit/search/submission/?subreddit=adidas&size=500&after=39d\n",
      "https://api.pushshift.io/reddit/search/submission/?subreddit=adidas&size=500&after=40d\n",
      "https://api.pushshift.io/reddit/search/submission/?subreddit=adidas&size=500&after=41d\n",
      "https://api.pushshift.io/reddit/search/submission/?subreddit=adidas&size=500&after=42d\n",
      "https://api.pushshift.io/reddit/search/submission/?subreddit=adidas&size=500&after=43d\n",
      "https://api.pushshift.io/reddit/search/submission/?subreddit=adidas&size=500&after=44d\n",
      "https://api.pushshift.io/reddit/search/submission/?subreddit=adidas&size=500&after=45d\n",
      "https://api.pushshift.io/reddit/search/submission/?subreddit=adidas&size=500&after=46d\n",
      "https://api.pushshift.io/reddit/search/submission/?subreddit=adidas&size=500&after=47d\n",
      "https://api.pushshift.io/reddit/search/submission/?subreddit=adidas&size=500&after=48d\n",
      "https://api.pushshift.io/reddit/search/submission/?subreddit=adidas&size=500&after=49d\n",
      "https://api.pushshift.io/reddit/search/submission/?subreddit=adidas&size=500&after=50d\n",
      "https://api.pushshift.io/reddit/search/submission/?subreddit=adidas&size=500&after=51d\n",
      "https://api.pushshift.io/reddit/search/submission/?subreddit=adidas&size=500&after=52d\n",
      "https://api.pushshift.io/reddit/search/submission/?subreddit=adidas&size=500&after=53d\n",
      "https://api.pushshift.io/reddit/search/submission/?subreddit=adidas&size=500&after=54d\n",
      "https://api.pushshift.io/reddit/search/submission/?subreddit=adidas&size=500&after=55d\n",
      "https://api.pushshift.io/reddit/search/submission/?subreddit=adidas&size=500&after=56d\n",
      "https://api.pushshift.io/reddit/search/submission/?subreddit=adidas&size=500&after=57d\n",
      "https://api.pushshift.io/reddit/search/submission/?subreddit=adidas&size=500&after=58d\n",
      "https://api.pushshift.io/reddit/search/submission/?subreddit=adidas&size=500&after=59d\n",
      "https://api.pushshift.io/reddit/search/submission/?subreddit=adidas&size=500&after=60d\n",
      "https://api.pushshift.io/reddit/search/submission/?subreddit=adidas&size=500&after=61d\n",
      "https://api.pushshift.io/reddit/search/submission/?subreddit=adidas&size=500&after=62d\n",
      "https://api.pushshift.io/reddit/search/submission/?subreddit=adidas&size=500&after=63d\n",
      "https://api.pushshift.io/reddit/search/submission/?subreddit=adidas&size=500&after=64d\n",
      "https://api.pushshift.io/reddit/search/submission/?subreddit=adidas&size=500&after=65d\n",
      "https://api.pushshift.io/reddit/search/submission/?subreddit=adidas&size=500&after=66d\n",
      "https://api.pushshift.io/reddit/search/submission/?subreddit=adidas&size=500&after=67d\n",
      "https://api.pushshift.io/reddit/search/submission/?subreddit=adidas&size=500&after=68d\n",
      "https://api.pushshift.io/reddit/search/submission/?subreddit=adidas&size=500&after=69d\n",
      "https://api.pushshift.io/reddit/search/submission/?subreddit=adidas&size=500&after=70d\n",
      "https://api.pushshift.io/reddit/search/submission/?subreddit=adidas&size=500&after=71d\n",
      "https://api.pushshift.io/reddit/search/submission/?subreddit=adidas&size=500&after=72d\n",
      "https://api.pushshift.io/reddit/search/submission/?subreddit=adidas&size=500&after=73d\n",
      "https://api.pushshift.io/reddit/search/submission/?subreddit=adidas&size=500&after=74d\n",
      "https://api.pushshift.io/reddit/search/submission/?subreddit=adidas&size=500&after=75d\n",
      "https://api.pushshift.io/reddit/search/submission/?subreddit=adidas&size=500&after=76d\n",
      "https://api.pushshift.io/reddit/search/submission/?subreddit=adidas&size=500&after=77d\n",
      "https://api.pushshift.io/reddit/search/submission/?subreddit=adidas&size=500&after=78d\n",
      "https://api.pushshift.io/reddit/search/submission/?subreddit=adidas&size=500&after=79d\n",
      "https://api.pushshift.io/reddit/search/submission/?subreddit=adidas&size=500&after=80d\n",
      "https://api.pushshift.io/reddit/search/submission/?subreddit=adidas&size=500&after=81d\n",
      "https://api.pushshift.io/reddit/search/submission/?subreddit=adidas&size=500&after=82d\n",
      "https://api.pushshift.io/reddit/search/submission/?subreddit=adidas&size=500&after=83d\n",
      "https://api.pushshift.io/reddit/search/submission/?subreddit=adidas&size=500&after=84d\n",
      "https://api.pushshift.io/reddit/search/submission/?subreddit=adidas&size=500&after=85d\n",
      "https://api.pushshift.io/reddit/search/submission/?subreddit=adidas&size=500&after=86d\n",
      "https://api.pushshift.io/reddit/search/submission/?subreddit=adidas&size=500&after=87d\n",
      "https://api.pushshift.io/reddit/search/submission/?subreddit=adidas&size=500&after=88d\n",
      "https://api.pushshift.io/reddit/search/submission/?subreddit=adidas&size=500&after=89d\n",
      "https://api.pushshift.io/reddit/search/submission/?subreddit=adidas&size=500&after=90d\n",
      "https://api.pushshift.io/reddit/search/submission/?subreddit=adidas&size=500&after=91d\n",
      "https://api.pushshift.io/reddit/search/submission/?subreddit=adidas&size=500&after=92d\n",
      "https://api.pushshift.io/reddit/search/submission/?subreddit=adidas&size=500&after=93d\n",
      "https://api.pushshift.io/reddit/search/submission/?subreddit=adidas&size=500&after=94d\n",
      "https://api.pushshift.io/reddit/search/submission/?subreddit=adidas&size=500&after=95d\n"
     ]
    },
    {
     "name": "stdout",
     "output_type": "stream",
     "text": [
      "https://api.pushshift.io/reddit/search/submission/?subreddit=adidas&size=500&after=96d\n",
      "https://api.pushshift.io/reddit/search/submission/?subreddit=adidas&size=500&after=97d\n",
      "https://api.pushshift.io/reddit/search/submission/?subreddit=adidas&size=500&after=98d\n",
      "https://api.pushshift.io/reddit/search/submission/?subreddit=adidas&size=500&after=99d\n",
      "https://api.pushshift.io/reddit/search/submission/?subreddit=adidas&size=500&after=100d\n",
      "(393, 9)\n"
     ]
    }
   ],
   "source": [
    "adidas_6 = query_pushshift('adidas', kind='submission', skip=1, times=100, start=1)"
   ]
  },
  {
   "cell_type": "code",
   "execution_count": 6,
   "metadata": {
    "scrolled": false
   },
   "outputs": [
    {
     "name": "stdout",
     "output_type": "stream",
     "text": [
      "https://api.pushshift.io/reddit/search/submission/?subreddit=nike&size=500&after=1d\n",
      "https://api.pushshift.io/reddit/search/submission/?subreddit=nike&size=500&after=2d\n",
      "https://api.pushshift.io/reddit/search/submission/?subreddit=nike&size=500&after=3d\n",
      "https://api.pushshift.io/reddit/search/submission/?subreddit=nike&size=500&after=4d\n",
      "https://api.pushshift.io/reddit/search/submission/?subreddit=nike&size=500&after=5d\n",
      "https://api.pushshift.io/reddit/search/submission/?subreddit=nike&size=500&after=6d\n",
      "https://api.pushshift.io/reddit/search/submission/?subreddit=nike&size=500&after=7d\n",
      "https://api.pushshift.io/reddit/search/submission/?subreddit=nike&size=500&after=8d\n",
      "https://api.pushshift.io/reddit/search/submission/?subreddit=nike&size=500&after=9d\n",
      "https://api.pushshift.io/reddit/search/submission/?subreddit=nike&size=500&after=10d\n",
      "https://api.pushshift.io/reddit/search/submission/?subreddit=nike&size=500&after=11d\n",
      "https://api.pushshift.io/reddit/search/submission/?subreddit=nike&size=500&after=12d\n",
      "https://api.pushshift.io/reddit/search/submission/?subreddit=nike&size=500&after=13d\n",
      "https://api.pushshift.io/reddit/search/submission/?subreddit=nike&size=500&after=14d\n",
      "https://api.pushshift.io/reddit/search/submission/?subreddit=nike&size=500&after=15d\n",
      "https://api.pushshift.io/reddit/search/submission/?subreddit=nike&size=500&after=16d\n",
      "https://api.pushshift.io/reddit/search/submission/?subreddit=nike&size=500&after=17d\n",
      "https://api.pushshift.io/reddit/search/submission/?subreddit=nike&size=500&after=18d\n",
      "https://api.pushshift.io/reddit/search/submission/?subreddit=nike&size=500&after=19d\n",
      "https://api.pushshift.io/reddit/search/submission/?subreddit=nike&size=500&after=20d\n",
      "https://api.pushshift.io/reddit/search/submission/?subreddit=nike&size=500&after=21d\n",
      "https://api.pushshift.io/reddit/search/submission/?subreddit=nike&size=500&after=22d\n",
      "https://api.pushshift.io/reddit/search/submission/?subreddit=nike&size=500&after=23d\n",
      "https://api.pushshift.io/reddit/search/submission/?subreddit=nike&size=500&after=24d\n",
      "https://api.pushshift.io/reddit/search/submission/?subreddit=nike&size=500&after=25d\n",
      "https://api.pushshift.io/reddit/search/submission/?subreddit=nike&size=500&after=26d\n",
      "https://api.pushshift.io/reddit/search/submission/?subreddit=nike&size=500&after=27d\n",
      "https://api.pushshift.io/reddit/search/submission/?subreddit=nike&size=500&after=28d\n",
      "https://api.pushshift.io/reddit/search/submission/?subreddit=nike&size=500&after=29d\n",
      "https://api.pushshift.io/reddit/search/submission/?subreddit=nike&size=500&after=30d\n",
      "https://api.pushshift.io/reddit/search/submission/?subreddit=nike&size=500&after=31d\n",
      "https://api.pushshift.io/reddit/search/submission/?subreddit=nike&size=500&after=32d\n",
      "https://api.pushshift.io/reddit/search/submission/?subreddit=nike&size=500&after=33d\n",
      "https://api.pushshift.io/reddit/search/submission/?subreddit=nike&size=500&after=34d\n",
      "https://api.pushshift.io/reddit/search/submission/?subreddit=nike&size=500&after=35d\n",
      "https://api.pushshift.io/reddit/search/submission/?subreddit=nike&size=500&after=36d\n",
      "https://api.pushshift.io/reddit/search/submission/?subreddit=nike&size=500&after=37d\n",
      "https://api.pushshift.io/reddit/search/submission/?subreddit=nike&size=500&after=38d\n",
      "https://api.pushshift.io/reddit/search/submission/?subreddit=nike&size=500&after=39d\n",
      "https://api.pushshift.io/reddit/search/submission/?subreddit=nike&size=500&after=40d\n",
      "https://api.pushshift.io/reddit/search/submission/?subreddit=nike&size=500&after=41d\n",
      "https://api.pushshift.io/reddit/search/submission/?subreddit=nike&size=500&after=42d\n",
      "https://api.pushshift.io/reddit/search/submission/?subreddit=nike&size=500&after=43d\n",
      "https://api.pushshift.io/reddit/search/submission/?subreddit=nike&size=500&after=44d\n",
      "https://api.pushshift.io/reddit/search/submission/?subreddit=nike&size=500&after=45d\n",
      "https://api.pushshift.io/reddit/search/submission/?subreddit=nike&size=500&after=46d\n",
      "https://api.pushshift.io/reddit/search/submission/?subreddit=nike&size=500&after=47d\n",
      "https://api.pushshift.io/reddit/search/submission/?subreddit=nike&size=500&after=48d\n",
      "https://api.pushshift.io/reddit/search/submission/?subreddit=nike&size=500&after=49d\n",
      "https://api.pushshift.io/reddit/search/submission/?subreddit=nike&size=500&after=50d\n",
      "https://api.pushshift.io/reddit/search/submission/?subreddit=nike&size=500&after=51d\n",
      "https://api.pushshift.io/reddit/search/submission/?subreddit=nike&size=500&after=52d\n",
      "https://api.pushshift.io/reddit/search/submission/?subreddit=nike&size=500&after=53d\n",
      "https://api.pushshift.io/reddit/search/submission/?subreddit=nike&size=500&after=54d\n",
      "https://api.pushshift.io/reddit/search/submission/?subreddit=nike&size=500&after=55d\n",
      "https://api.pushshift.io/reddit/search/submission/?subreddit=nike&size=500&after=56d\n",
      "https://api.pushshift.io/reddit/search/submission/?subreddit=nike&size=500&after=57d\n",
      "https://api.pushshift.io/reddit/search/submission/?subreddit=nike&size=500&after=58d\n",
      "https://api.pushshift.io/reddit/search/submission/?subreddit=nike&size=500&after=59d\n",
      "https://api.pushshift.io/reddit/search/submission/?subreddit=nike&size=500&after=60d\n",
      "https://api.pushshift.io/reddit/search/submission/?subreddit=nike&size=500&after=61d\n",
      "https://api.pushshift.io/reddit/search/submission/?subreddit=nike&size=500&after=62d\n",
      "https://api.pushshift.io/reddit/search/submission/?subreddit=nike&size=500&after=63d\n",
      "https://api.pushshift.io/reddit/search/submission/?subreddit=nike&size=500&after=64d\n",
      "https://api.pushshift.io/reddit/search/submission/?subreddit=nike&size=500&after=65d\n",
      "https://api.pushshift.io/reddit/search/submission/?subreddit=nike&size=500&after=66d\n",
      "https://api.pushshift.io/reddit/search/submission/?subreddit=nike&size=500&after=67d\n",
      "https://api.pushshift.io/reddit/search/submission/?subreddit=nike&size=500&after=68d\n",
      "https://api.pushshift.io/reddit/search/submission/?subreddit=nike&size=500&after=69d\n",
      "https://api.pushshift.io/reddit/search/submission/?subreddit=nike&size=500&after=70d\n",
      "https://api.pushshift.io/reddit/search/submission/?subreddit=nike&size=500&after=71d\n",
      "https://api.pushshift.io/reddit/search/submission/?subreddit=nike&size=500&after=72d\n",
      "https://api.pushshift.io/reddit/search/submission/?subreddit=nike&size=500&after=73d\n",
      "https://api.pushshift.io/reddit/search/submission/?subreddit=nike&size=500&after=74d\n",
      "https://api.pushshift.io/reddit/search/submission/?subreddit=nike&size=500&after=75d\n",
      "https://api.pushshift.io/reddit/search/submission/?subreddit=nike&size=500&after=76d\n",
      "https://api.pushshift.io/reddit/search/submission/?subreddit=nike&size=500&after=77d\n",
      "https://api.pushshift.io/reddit/search/submission/?subreddit=nike&size=500&after=78d\n",
      "https://api.pushshift.io/reddit/search/submission/?subreddit=nike&size=500&after=79d\n",
      "https://api.pushshift.io/reddit/search/submission/?subreddit=nike&size=500&after=80d\n",
      "https://api.pushshift.io/reddit/search/submission/?subreddit=nike&size=500&after=81d\n",
      "https://api.pushshift.io/reddit/search/submission/?subreddit=nike&size=500&after=82d\n",
      "https://api.pushshift.io/reddit/search/submission/?subreddit=nike&size=500&after=83d\n",
      "https://api.pushshift.io/reddit/search/submission/?subreddit=nike&size=500&after=84d\n",
      "https://api.pushshift.io/reddit/search/submission/?subreddit=nike&size=500&after=85d\n",
      "https://api.pushshift.io/reddit/search/submission/?subreddit=nike&size=500&after=86d\n",
      "https://api.pushshift.io/reddit/search/submission/?subreddit=nike&size=500&after=87d\n",
      "https://api.pushshift.io/reddit/search/submission/?subreddit=nike&size=500&after=88d\n",
      "https://api.pushshift.io/reddit/search/submission/?subreddit=nike&size=500&after=89d\n",
      "https://api.pushshift.io/reddit/search/submission/?subreddit=nike&size=500&after=90d\n",
      "https://api.pushshift.io/reddit/search/submission/?subreddit=nike&size=500&after=91d\n",
      "https://api.pushshift.io/reddit/search/submission/?subreddit=nike&size=500&after=92d\n",
      "https://api.pushshift.io/reddit/search/submission/?subreddit=nike&size=500&after=93d\n",
      "https://api.pushshift.io/reddit/search/submission/?subreddit=nike&size=500&after=94d\n",
      "https://api.pushshift.io/reddit/search/submission/?subreddit=nike&size=500&after=95d\n",
      "https://api.pushshift.io/reddit/search/submission/?subreddit=nike&size=500&after=96d\n",
      "https://api.pushshift.io/reddit/search/submission/?subreddit=nike&size=500&after=97d\n"
     ]
    },
    {
     "name": "stdout",
     "output_type": "stream",
     "text": [
      "https://api.pushshift.io/reddit/search/submission/?subreddit=nike&size=500&after=98d\n",
      "https://api.pushshift.io/reddit/search/submission/?subreddit=nike&size=500&after=99d\n",
      "https://api.pushshift.io/reddit/search/submission/?subreddit=nike&size=500&after=100d\n",
      "https://api.pushshift.io/reddit/search/submission/?subreddit=nike&size=500&after=101d\n",
      "https://api.pushshift.io/reddit/search/submission/?subreddit=nike&size=500&after=102d\n",
      "https://api.pushshift.io/reddit/search/submission/?subreddit=nike&size=500&after=103d\n",
      "https://api.pushshift.io/reddit/search/submission/?subreddit=nike&size=500&after=104d\n",
      "https://api.pushshift.io/reddit/search/submission/?subreddit=nike&size=500&after=105d\n",
      "https://api.pushshift.io/reddit/search/submission/?subreddit=nike&size=500&after=106d\n",
      "https://api.pushshift.io/reddit/search/submission/?subreddit=nike&size=500&after=107d\n",
      "https://api.pushshift.io/reddit/search/submission/?subreddit=nike&size=500&after=108d\n",
      "https://api.pushshift.io/reddit/search/submission/?subreddit=nike&size=500&after=109d\n",
      "https://api.pushshift.io/reddit/search/submission/?subreddit=nike&size=500&after=110d\n",
      "https://api.pushshift.io/reddit/search/submission/?subreddit=nike&size=500&after=111d\n",
      "https://api.pushshift.io/reddit/search/submission/?subreddit=nike&size=500&after=112d\n",
      "https://api.pushshift.io/reddit/search/submission/?subreddit=nike&size=500&after=113d\n",
      "https://api.pushshift.io/reddit/search/submission/?subreddit=nike&size=500&after=114d\n",
      "https://api.pushshift.io/reddit/search/submission/?subreddit=nike&size=500&after=115d\n",
      "https://api.pushshift.io/reddit/search/submission/?subreddit=nike&size=500&after=116d\n",
      "https://api.pushshift.io/reddit/search/submission/?subreddit=nike&size=500&after=117d\n",
      "https://api.pushshift.io/reddit/search/submission/?subreddit=nike&size=500&after=118d\n",
      "https://api.pushshift.io/reddit/search/submission/?subreddit=nike&size=500&after=119d\n",
      "https://api.pushshift.io/reddit/search/submission/?subreddit=nike&size=500&after=120d\n",
      "https://api.pushshift.io/reddit/search/submission/?subreddit=nike&size=500&after=121d\n",
      "https://api.pushshift.io/reddit/search/submission/?subreddit=nike&size=500&after=122d\n",
      "https://api.pushshift.io/reddit/search/submission/?subreddit=nike&size=500&after=123d\n",
      "https://api.pushshift.io/reddit/search/submission/?subreddit=nike&size=500&after=124d\n",
      "https://api.pushshift.io/reddit/search/submission/?subreddit=nike&size=500&after=125d\n",
      "https://api.pushshift.io/reddit/search/submission/?subreddit=nike&size=500&after=126d\n",
      "https://api.pushshift.io/reddit/search/submission/?subreddit=nike&size=500&after=127d\n",
      "https://api.pushshift.io/reddit/search/submission/?subreddit=nike&size=500&after=128d\n",
      "https://api.pushshift.io/reddit/search/submission/?subreddit=nike&size=500&after=129d\n",
      "https://api.pushshift.io/reddit/search/submission/?subreddit=nike&size=500&after=130d\n",
      "https://api.pushshift.io/reddit/search/submission/?subreddit=nike&size=500&after=131d\n",
      "https://api.pushshift.io/reddit/search/submission/?subreddit=nike&size=500&after=132d\n",
      "https://api.pushshift.io/reddit/search/submission/?subreddit=nike&size=500&after=133d\n",
      "https://api.pushshift.io/reddit/search/submission/?subreddit=nike&size=500&after=134d\n",
      "https://api.pushshift.io/reddit/search/submission/?subreddit=nike&size=500&after=135d\n",
      "https://api.pushshift.io/reddit/search/submission/?subreddit=nike&size=500&after=136d\n",
      "https://api.pushshift.io/reddit/search/submission/?subreddit=nike&size=500&after=137d\n",
      "https://api.pushshift.io/reddit/search/submission/?subreddit=nike&size=500&after=138d\n",
      "https://api.pushshift.io/reddit/search/submission/?subreddit=nike&size=500&after=139d\n",
      "https://api.pushshift.io/reddit/search/submission/?subreddit=nike&size=500&after=140d\n",
      "https://api.pushshift.io/reddit/search/submission/?subreddit=nike&size=500&after=141d\n",
      "https://api.pushshift.io/reddit/search/submission/?subreddit=nike&size=500&after=142d\n",
      "https://api.pushshift.io/reddit/search/submission/?subreddit=nike&size=500&after=143d\n",
      "https://api.pushshift.io/reddit/search/submission/?subreddit=nike&size=500&after=144d\n",
      "https://api.pushshift.io/reddit/search/submission/?subreddit=nike&size=500&after=145d\n",
      "https://api.pushshift.io/reddit/search/submission/?subreddit=nike&size=500&after=146d\n",
      "https://api.pushshift.io/reddit/search/submission/?subreddit=nike&size=500&after=147d\n",
      "https://api.pushshift.io/reddit/search/submission/?subreddit=nike&size=500&after=148d\n",
      "https://api.pushshift.io/reddit/search/submission/?subreddit=nike&size=500&after=149d\n",
      "https://api.pushshift.io/reddit/search/submission/?subreddit=nike&size=500&after=150d\n",
      "https://api.pushshift.io/reddit/search/submission/?subreddit=nike&size=500&after=151d\n",
      "https://api.pushshift.io/reddit/search/submission/?subreddit=nike&size=500&after=152d\n",
      "https://api.pushshift.io/reddit/search/submission/?subreddit=nike&size=500&after=153d\n",
      "https://api.pushshift.io/reddit/search/submission/?subreddit=nike&size=500&after=154d\n",
      "https://api.pushshift.io/reddit/search/submission/?subreddit=nike&size=500&after=155d\n",
      "https://api.pushshift.io/reddit/search/submission/?subreddit=nike&size=500&after=156d\n",
      "https://api.pushshift.io/reddit/search/submission/?subreddit=nike&size=500&after=157d\n",
      "https://api.pushshift.io/reddit/search/submission/?subreddit=nike&size=500&after=158d\n",
      "https://api.pushshift.io/reddit/search/submission/?subreddit=nike&size=500&after=159d\n",
      "https://api.pushshift.io/reddit/search/submission/?subreddit=nike&size=500&after=160d\n",
      "https://api.pushshift.io/reddit/search/submission/?subreddit=nike&size=500&after=161d\n",
      "https://api.pushshift.io/reddit/search/submission/?subreddit=nike&size=500&after=162d\n",
      "https://api.pushshift.io/reddit/search/submission/?subreddit=nike&size=500&after=163d\n",
      "https://api.pushshift.io/reddit/search/submission/?subreddit=nike&size=500&after=164d\n",
      "https://api.pushshift.io/reddit/search/submission/?subreddit=nike&size=500&after=165d\n",
      "https://api.pushshift.io/reddit/search/submission/?subreddit=nike&size=500&after=166d\n",
      "https://api.pushshift.io/reddit/search/submission/?subreddit=nike&size=500&after=167d\n",
      "https://api.pushshift.io/reddit/search/submission/?subreddit=nike&size=500&after=168d\n",
      "https://api.pushshift.io/reddit/search/submission/?subreddit=nike&size=500&after=169d\n",
      "https://api.pushshift.io/reddit/search/submission/?subreddit=nike&size=500&after=170d\n",
      "https://api.pushshift.io/reddit/search/submission/?subreddit=nike&size=500&after=171d\n",
      "https://api.pushshift.io/reddit/search/submission/?subreddit=nike&size=500&after=172d\n",
      "https://api.pushshift.io/reddit/search/submission/?subreddit=nike&size=500&after=173d\n",
      "https://api.pushshift.io/reddit/search/submission/?subreddit=nike&size=500&after=174d\n",
      "https://api.pushshift.io/reddit/search/submission/?subreddit=nike&size=500&after=175d\n",
      "https://api.pushshift.io/reddit/search/submission/?subreddit=nike&size=500&after=176d\n",
      "https://api.pushshift.io/reddit/search/submission/?subreddit=nike&size=500&after=177d\n",
      "https://api.pushshift.io/reddit/search/submission/?subreddit=nike&size=500&after=178d\n",
      "https://api.pushshift.io/reddit/search/submission/?subreddit=nike&size=500&after=179d\n",
      "https://api.pushshift.io/reddit/search/submission/?subreddit=nike&size=500&after=180d\n",
      "https://api.pushshift.io/reddit/search/submission/?subreddit=nike&size=500&after=181d\n",
      "https://api.pushshift.io/reddit/search/submission/?subreddit=nike&size=500&after=182d\n",
      "https://api.pushshift.io/reddit/search/submission/?subreddit=nike&size=500&after=183d\n",
      "https://api.pushshift.io/reddit/search/submission/?subreddit=nike&size=500&after=184d\n",
      "https://api.pushshift.io/reddit/search/submission/?subreddit=nike&size=500&after=185d\n",
      "https://api.pushshift.io/reddit/search/submission/?subreddit=nike&size=500&after=186d\n",
      "https://api.pushshift.io/reddit/search/submission/?subreddit=nike&size=500&after=187d\n",
      "https://api.pushshift.io/reddit/search/submission/?subreddit=nike&size=500&after=188d\n",
      "https://api.pushshift.io/reddit/search/submission/?subreddit=nike&size=500&after=189d\n",
      "https://api.pushshift.io/reddit/search/submission/?subreddit=nike&size=500&after=190d\n",
      "https://api.pushshift.io/reddit/search/submission/?subreddit=nike&size=500&after=191d\n",
      "https://api.pushshift.io/reddit/search/submission/?subreddit=nike&size=500&after=192d\n",
      "https://api.pushshift.io/reddit/search/submission/?subreddit=nike&size=500&after=193d\n"
     ]
    },
    {
     "name": "stdout",
     "output_type": "stream",
     "text": [
      "https://api.pushshift.io/reddit/search/submission/?subreddit=nike&size=500&after=194d\n",
      "https://api.pushshift.io/reddit/search/submission/?subreddit=nike&size=500&after=195d\n",
      "https://api.pushshift.io/reddit/search/submission/?subreddit=nike&size=500&after=196d\n",
      "https://api.pushshift.io/reddit/search/submission/?subreddit=nike&size=500&after=197d\n",
      "https://api.pushshift.io/reddit/search/submission/?subreddit=nike&size=500&after=198d\n",
      "https://api.pushshift.io/reddit/search/submission/?subreddit=nike&size=500&after=199d\n",
      "https://api.pushshift.io/reddit/search/submission/?subreddit=nike&size=500&after=200d\n",
      "(841, 9)\n"
     ]
    }
   ],
   "source": [
    "nike_7 = query_pushshift('nike', kind='submission', skip=1, times=200, start=101)"
   ]
  },
  {
   "cell_type": "code",
   "execution_count": 10,
   "metadata": {
    "scrolled": false
   },
   "outputs": [
    {
     "name": "stdout",
     "output_type": "stream",
     "text": [
      "https://api.pushshift.io/reddit/search/submission/?subreddit=adidas&size=500&after=1d\n",
      "https://api.pushshift.io/reddit/search/submission/?subreddit=adidas&size=500&after=2d\n",
      "https://api.pushshift.io/reddit/search/submission/?subreddit=adidas&size=500&after=3d\n",
      "https://api.pushshift.io/reddit/search/submission/?subreddit=adidas&size=500&after=4d\n",
      "https://api.pushshift.io/reddit/search/submission/?subreddit=adidas&size=500&after=5d\n",
      "https://api.pushshift.io/reddit/search/submission/?subreddit=adidas&size=500&after=6d\n",
      "https://api.pushshift.io/reddit/search/submission/?subreddit=adidas&size=500&after=7d\n",
      "https://api.pushshift.io/reddit/search/submission/?subreddit=adidas&size=500&after=8d\n",
      "https://api.pushshift.io/reddit/search/submission/?subreddit=adidas&size=500&after=9d\n",
      "https://api.pushshift.io/reddit/search/submission/?subreddit=adidas&size=500&after=10d\n",
      "https://api.pushshift.io/reddit/search/submission/?subreddit=adidas&size=500&after=11d\n",
      "https://api.pushshift.io/reddit/search/submission/?subreddit=adidas&size=500&after=12d\n",
      "https://api.pushshift.io/reddit/search/submission/?subreddit=adidas&size=500&after=13d\n",
      "https://api.pushshift.io/reddit/search/submission/?subreddit=adidas&size=500&after=14d\n",
      "https://api.pushshift.io/reddit/search/submission/?subreddit=adidas&size=500&after=15d\n",
      "https://api.pushshift.io/reddit/search/submission/?subreddit=adidas&size=500&after=16d\n",
      "https://api.pushshift.io/reddit/search/submission/?subreddit=adidas&size=500&after=17d\n",
      "https://api.pushshift.io/reddit/search/submission/?subreddit=adidas&size=500&after=18d\n",
      "https://api.pushshift.io/reddit/search/submission/?subreddit=adidas&size=500&after=19d\n",
      "https://api.pushshift.io/reddit/search/submission/?subreddit=adidas&size=500&after=20d\n",
      "https://api.pushshift.io/reddit/search/submission/?subreddit=adidas&size=500&after=21d\n",
      "https://api.pushshift.io/reddit/search/submission/?subreddit=adidas&size=500&after=22d\n",
      "https://api.pushshift.io/reddit/search/submission/?subreddit=adidas&size=500&after=23d\n",
      "https://api.pushshift.io/reddit/search/submission/?subreddit=adidas&size=500&after=24d\n",
      "https://api.pushshift.io/reddit/search/submission/?subreddit=adidas&size=500&after=25d\n",
      "https://api.pushshift.io/reddit/search/submission/?subreddit=adidas&size=500&after=26d\n",
      "https://api.pushshift.io/reddit/search/submission/?subreddit=adidas&size=500&after=27d\n",
      "https://api.pushshift.io/reddit/search/submission/?subreddit=adidas&size=500&after=28d\n",
      "https://api.pushshift.io/reddit/search/submission/?subreddit=adidas&size=500&after=29d\n",
      "https://api.pushshift.io/reddit/search/submission/?subreddit=adidas&size=500&after=30d\n",
      "https://api.pushshift.io/reddit/search/submission/?subreddit=adidas&size=500&after=31d\n",
      "https://api.pushshift.io/reddit/search/submission/?subreddit=adidas&size=500&after=32d\n",
      "https://api.pushshift.io/reddit/search/submission/?subreddit=adidas&size=500&after=33d\n",
      "https://api.pushshift.io/reddit/search/submission/?subreddit=adidas&size=500&after=34d\n",
      "https://api.pushshift.io/reddit/search/submission/?subreddit=adidas&size=500&after=35d\n",
      "https://api.pushshift.io/reddit/search/submission/?subreddit=adidas&size=500&after=36d\n",
      "https://api.pushshift.io/reddit/search/submission/?subreddit=adidas&size=500&after=37d\n",
      "https://api.pushshift.io/reddit/search/submission/?subreddit=adidas&size=500&after=38d\n",
      "https://api.pushshift.io/reddit/search/submission/?subreddit=adidas&size=500&after=39d\n",
      "https://api.pushshift.io/reddit/search/submission/?subreddit=adidas&size=500&after=40d\n",
      "https://api.pushshift.io/reddit/search/submission/?subreddit=adidas&size=500&after=41d\n",
      "https://api.pushshift.io/reddit/search/submission/?subreddit=adidas&size=500&after=42d\n",
      "https://api.pushshift.io/reddit/search/submission/?subreddit=adidas&size=500&after=43d\n",
      "https://api.pushshift.io/reddit/search/submission/?subreddit=adidas&size=500&after=44d\n",
      "https://api.pushshift.io/reddit/search/submission/?subreddit=adidas&size=500&after=45d\n",
      "https://api.pushshift.io/reddit/search/submission/?subreddit=adidas&size=500&after=46d\n",
      "https://api.pushshift.io/reddit/search/submission/?subreddit=adidas&size=500&after=47d\n",
      "https://api.pushshift.io/reddit/search/submission/?subreddit=adidas&size=500&after=48d\n",
      "https://api.pushshift.io/reddit/search/submission/?subreddit=adidas&size=500&after=49d\n",
      "https://api.pushshift.io/reddit/search/submission/?subreddit=adidas&size=500&after=50d\n",
      "https://api.pushshift.io/reddit/search/submission/?subreddit=adidas&size=500&after=51d\n",
      "https://api.pushshift.io/reddit/search/submission/?subreddit=adidas&size=500&after=52d\n",
      "https://api.pushshift.io/reddit/search/submission/?subreddit=adidas&size=500&after=53d\n",
      "https://api.pushshift.io/reddit/search/submission/?subreddit=adidas&size=500&after=54d\n",
      "https://api.pushshift.io/reddit/search/submission/?subreddit=adidas&size=500&after=55d\n",
      "https://api.pushshift.io/reddit/search/submission/?subreddit=adidas&size=500&after=56d\n",
      "https://api.pushshift.io/reddit/search/submission/?subreddit=adidas&size=500&after=57d\n",
      "https://api.pushshift.io/reddit/search/submission/?subreddit=adidas&size=500&after=58d\n",
      "https://api.pushshift.io/reddit/search/submission/?subreddit=adidas&size=500&after=59d\n",
      "https://api.pushshift.io/reddit/search/submission/?subreddit=adidas&size=500&after=60d\n",
      "https://api.pushshift.io/reddit/search/submission/?subreddit=adidas&size=500&after=61d\n",
      "https://api.pushshift.io/reddit/search/submission/?subreddit=adidas&size=500&after=62d\n",
      "https://api.pushshift.io/reddit/search/submission/?subreddit=adidas&size=500&after=63d\n",
      "https://api.pushshift.io/reddit/search/submission/?subreddit=adidas&size=500&after=64d\n",
      "https://api.pushshift.io/reddit/search/submission/?subreddit=adidas&size=500&after=65d\n",
      "https://api.pushshift.io/reddit/search/submission/?subreddit=adidas&size=500&after=66d\n",
      "https://api.pushshift.io/reddit/search/submission/?subreddit=adidas&size=500&after=67d\n",
      "https://api.pushshift.io/reddit/search/submission/?subreddit=adidas&size=500&after=68d\n",
      "https://api.pushshift.io/reddit/search/submission/?subreddit=adidas&size=500&after=69d\n",
      "https://api.pushshift.io/reddit/search/submission/?subreddit=adidas&size=500&after=70d\n",
      "https://api.pushshift.io/reddit/search/submission/?subreddit=adidas&size=500&after=71d\n",
      "https://api.pushshift.io/reddit/search/submission/?subreddit=adidas&size=500&after=72d\n",
      "https://api.pushshift.io/reddit/search/submission/?subreddit=adidas&size=500&after=73d\n",
      "https://api.pushshift.io/reddit/search/submission/?subreddit=adidas&size=500&after=74d\n",
      "https://api.pushshift.io/reddit/search/submission/?subreddit=adidas&size=500&after=75d\n",
      "https://api.pushshift.io/reddit/search/submission/?subreddit=adidas&size=500&after=76d\n",
      "https://api.pushshift.io/reddit/search/submission/?subreddit=adidas&size=500&after=77d\n",
      "https://api.pushshift.io/reddit/search/submission/?subreddit=adidas&size=500&after=78d\n",
      "https://api.pushshift.io/reddit/search/submission/?subreddit=adidas&size=500&after=79d\n",
      "https://api.pushshift.io/reddit/search/submission/?subreddit=adidas&size=500&after=80d\n",
      "https://api.pushshift.io/reddit/search/submission/?subreddit=adidas&size=500&after=81d\n",
      "https://api.pushshift.io/reddit/search/submission/?subreddit=adidas&size=500&after=82d\n",
      "https://api.pushshift.io/reddit/search/submission/?subreddit=adidas&size=500&after=83d\n",
      "https://api.pushshift.io/reddit/search/submission/?subreddit=adidas&size=500&after=84d\n",
      "https://api.pushshift.io/reddit/search/submission/?subreddit=adidas&size=500&after=85d\n",
      "https://api.pushshift.io/reddit/search/submission/?subreddit=adidas&size=500&after=86d\n",
      "https://api.pushshift.io/reddit/search/submission/?subreddit=adidas&size=500&after=87d\n",
      "https://api.pushshift.io/reddit/search/submission/?subreddit=adidas&size=500&after=88d\n",
      "https://api.pushshift.io/reddit/search/submission/?subreddit=adidas&size=500&after=89d\n",
      "https://api.pushshift.io/reddit/search/submission/?subreddit=adidas&size=500&after=90d\n",
      "https://api.pushshift.io/reddit/search/submission/?subreddit=adidas&size=500&after=91d\n",
      "https://api.pushshift.io/reddit/search/submission/?subreddit=adidas&size=500&after=92d\n",
      "https://api.pushshift.io/reddit/search/submission/?subreddit=adidas&size=500&after=93d\n",
      "https://api.pushshift.io/reddit/search/submission/?subreddit=adidas&size=500&after=94d\n",
      "https://api.pushshift.io/reddit/search/submission/?subreddit=adidas&size=500&after=95d\n"
     ]
    },
    {
     "name": "stdout",
     "output_type": "stream",
     "text": [
      "https://api.pushshift.io/reddit/search/submission/?subreddit=adidas&size=500&after=96d\n",
      "https://api.pushshift.io/reddit/search/submission/?subreddit=adidas&size=500&after=97d\n",
      "https://api.pushshift.io/reddit/search/submission/?subreddit=adidas&size=500&after=98d\n",
      "https://api.pushshift.io/reddit/search/submission/?subreddit=adidas&size=500&after=99d\n",
      "https://api.pushshift.io/reddit/search/submission/?subreddit=adidas&size=500&after=100d\n",
      "https://api.pushshift.io/reddit/search/submission/?subreddit=adidas&size=500&after=101d\n",
      "https://api.pushshift.io/reddit/search/submission/?subreddit=adidas&size=500&after=102d\n",
      "https://api.pushshift.io/reddit/search/submission/?subreddit=adidas&size=500&after=103d\n",
      "https://api.pushshift.io/reddit/search/submission/?subreddit=adidas&size=500&after=104d\n",
      "https://api.pushshift.io/reddit/search/submission/?subreddit=adidas&size=500&after=105d\n",
      "https://api.pushshift.io/reddit/search/submission/?subreddit=adidas&size=500&after=106d\n",
      "https://api.pushshift.io/reddit/search/submission/?subreddit=adidas&size=500&after=107d\n",
      "https://api.pushshift.io/reddit/search/submission/?subreddit=adidas&size=500&after=108d\n",
      "https://api.pushshift.io/reddit/search/submission/?subreddit=adidas&size=500&after=109d\n",
      "https://api.pushshift.io/reddit/search/submission/?subreddit=adidas&size=500&after=110d\n",
      "https://api.pushshift.io/reddit/search/submission/?subreddit=adidas&size=500&after=111d\n",
      "https://api.pushshift.io/reddit/search/submission/?subreddit=adidas&size=500&after=112d\n",
      "https://api.pushshift.io/reddit/search/submission/?subreddit=adidas&size=500&after=113d\n",
      "https://api.pushshift.io/reddit/search/submission/?subreddit=adidas&size=500&after=114d\n",
      "https://api.pushshift.io/reddit/search/submission/?subreddit=adidas&size=500&after=115d\n",
      "https://api.pushshift.io/reddit/search/submission/?subreddit=adidas&size=500&after=116d\n",
      "https://api.pushshift.io/reddit/search/submission/?subreddit=adidas&size=500&after=117d\n",
      "https://api.pushshift.io/reddit/search/submission/?subreddit=adidas&size=500&after=118d\n",
      "https://api.pushshift.io/reddit/search/submission/?subreddit=adidas&size=500&after=119d\n",
      "https://api.pushshift.io/reddit/search/submission/?subreddit=adidas&size=500&after=120d\n",
      "https://api.pushshift.io/reddit/search/submission/?subreddit=adidas&size=500&after=121d\n",
      "https://api.pushshift.io/reddit/search/submission/?subreddit=adidas&size=500&after=122d\n",
      "https://api.pushshift.io/reddit/search/submission/?subreddit=adidas&size=500&after=123d\n",
      "https://api.pushshift.io/reddit/search/submission/?subreddit=adidas&size=500&after=124d\n",
      "https://api.pushshift.io/reddit/search/submission/?subreddit=adidas&size=500&after=125d\n",
      "https://api.pushshift.io/reddit/search/submission/?subreddit=adidas&size=500&after=126d\n",
      "https://api.pushshift.io/reddit/search/submission/?subreddit=adidas&size=500&after=127d\n",
      "https://api.pushshift.io/reddit/search/submission/?subreddit=adidas&size=500&after=128d\n",
      "https://api.pushshift.io/reddit/search/submission/?subreddit=adidas&size=500&after=129d\n",
      "https://api.pushshift.io/reddit/search/submission/?subreddit=adidas&size=500&after=130d\n",
      "https://api.pushshift.io/reddit/search/submission/?subreddit=adidas&size=500&after=131d\n",
      "https://api.pushshift.io/reddit/search/submission/?subreddit=adidas&size=500&after=132d\n",
      "https://api.pushshift.io/reddit/search/submission/?subreddit=adidas&size=500&after=133d\n",
      "https://api.pushshift.io/reddit/search/submission/?subreddit=adidas&size=500&after=134d\n",
      "https://api.pushshift.io/reddit/search/submission/?subreddit=adidas&size=500&after=135d\n",
      "https://api.pushshift.io/reddit/search/submission/?subreddit=adidas&size=500&after=136d\n",
      "https://api.pushshift.io/reddit/search/submission/?subreddit=adidas&size=500&after=137d\n",
      "https://api.pushshift.io/reddit/search/submission/?subreddit=adidas&size=500&after=138d\n",
      "https://api.pushshift.io/reddit/search/submission/?subreddit=adidas&size=500&after=139d\n",
      "https://api.pushshift.io/reddit/search/submission/?subreddit=adidas&size=500&after=140d\n",
      "https://api.pushshift.io/reddit/search/submission/?subreddit=adidas&size=500&after=141d\n",
      "https://api.pushshift.io/reddit/search/submission/?subreddit=adidas&size=500&after=142d\n",
      "https://api.pushshift.io/reddit/search/submission/?subreddit=adidas&size=500&after=143d\n",
      "https://api.pushshift.io/reddit/search/submission/?subreddit=adidas&size=500&after=144d\n",
      "https://api.pushshift.io/reddit/search/submission/?subreddit=adidas&size=500&after=145d\n",
      "https://api.pushshift.io/reddit/search/submission/?subreddit=adidas&size=500&after=146d\n",
      "https://api.pushshift.io/reddit/search/submission/?subreddit=adidas&size=500&after=147d\n",
      "https://api.pushshift.io/reddit/search/submission/?subreddit=adidas&size=500&after=148d\n",
      "https://api.pushshift.io/reddit/search/submission/?subreddit=adidas&size=500&after=149d\n",
      "https://api.pushshift.io/reddit/search/submission/?subreddit=adidas&size=500&after=150d\n",
      "https://api.pushshift.io/reddit/search/submission/?subreddit=adidas&size=500&after=151d\n",
      "https://api.pushshift.io/reddit/search/submission/?subreddit=adidas&size=500&after=152d\n",
      "https://api.pushshift.io/reddit/search/submission/?subreddit=adidas&size=500&after=153d\n",
      "https://api.pushshift.io/reddit/search/submission/?subreddit=adidas&size=500&after=154d\n",
      "https://api.pushshift.io/reddit/search/submission/?subreddit=adidas&size=500&after=155d\n",
      "https://api.pushshift.io/reddit/search/submission/?subreddit=adidas&size=500&after=156d\n",
      "https://api.pushshift.io/reddit/search/submission/?subreddit=adidas&size=500&after=157d\n",
      "https://api.pushshift.io/reddit/search/submission/?subreddit=adidas&size=500&after=158d\n",
      "https://api.pushshift.io/reddit/search/submission/?subreddit=adidas&size=500&after=159d\n",
      "https://api.pushshift.io/reddit/search/submission/?subreddit=adidas&size=500&after=160d\n",
      "https://api.pushshift.io/reddit/search/submission/?subreddit=adidas&size=500&after=161d\n",
      "https://api.pushshift.io/reddit/search/submission/?subreddit=adidas&size=500&after=162d\n",
      "https://api.pushshift.io/reddit/search/submission/?subreddit=adidas&size=500&after=163d\n",
      "https://api.pushshift.io/reddit/search/submission/?subreddit=adidas&size=500&after=164d\n",
      "https://api.pushshift.io/reddit/search/submission/?subreddit=adidas&size=500&after=165d\n",
      "https://api.pushshift.io/reddit/search/submission/?subreddit=adidas&size=500&after=166d\n",
      "https://api.pushshift.io/reddit/search/submission/?subreddit=adidas&size=500&after=167d\n",
      "https://api.pushshift.io/reddit/search/submission/?subreddit=adidas&size=500&after=168d\n",
      "https://api.pushshift.io/reddit/search/submission/?subreddit=adidas&size=500&after=169d\n",
      "https://api.pushshift.io/reddit/search/submission/?subreddit=adidas&size=500&after=170d\n",
      "https://api.pushshift.io/reddit/search/submission/?subreddit=adidas&size=500&after=171d\n",
      "https://api.pushshift.io/reddit/search/submission/?subreddit=adidas&size=500&after=172d\n",
      "https://api.pushshift.io/reddit/search/submission/?subreddit=adidas&size=500&after=173d\n",
      "https://api.pushshift.io/reddit/search/submission/?subreddit=adidas&size=500&after=174d\n",
      "https://api.pushshift.io/reddit/search/submission/?subreddit=adidas&size=500&after=175d\n",
      "https://api.pushshift.io/reddit/search/submission/?subreddit=adidas&size=500&after=176d\n",
      "https://api.pushshift.io/reddit/search/submission/?subreddit=adidas&size=500&after=177d\n",
      "https://api.pushshift.io/reddit/search/submission/?subreddit=adidas&size=500&after=178d\n",
      "https://api.pushshift.io/reddit/search/submission/?subreddit=adidas&size=500&after=179d\n",
      "https://api.pushshift.io/reddit/search/submission/?subreddit=adidas&size=500&after=180d\n",
      "https://api.pushshift.io/reddit/search/submission/?subreddit=adidas&size=500&after=181d\n",
      "https://api.pushshift.io/reddit/search/submission/?subreddit=adidas&size=500&after=182d\n",
      "https://api.pushshift.io/reddit/search/submission/?subreddit=adidas&size=500&after=183d\n",
      "https://api.pushshift.io/reddit/search/submission/?subreddit=adidas&size=500&after=184d\n",
      "https://api.pushshift.io/reddit/search/submission/?subreddit=adidas&size=500&after=185d\n",
      "https://api.pushshift.io/reddit/search/submission/?subreddit=adidas&size=500&after=186d\n",
      "https://api.pushshift.io/reddit/search/submission/?subreddit=adidas&size=500&after=187d\n",
      "https://api.pushshift.io/reddit/search/submission/?subreddit=adidas&size=500&after=188d\n",
      "https://api.pushshift.io/reddit/search/submission/?subreddit=adidas&size=500&after=189d\n"
     ]
    },
    {
     "name": "stdout",
     "output_type": "stream",
     "text": [
      "https://api.pushshift.io/reddit/search/submission/?subreddit=adidas&size=500&after=190d\n",
      "https://api.pushshift.io/reddit/search/submission/?subreddit=adidas&size=500&after=191d\n",
      "https://api.pushshift.io/reddit/search/submission/?subreddit=adidas&size=500&after=192d\n",
      "https://api.pushshift.io/reddit/search/submission/?subreddit=adidas&size=500&after=193d\n",
      "https://api.pushshift.io/reddit/search/submission/?subreddit=adidas&size=500&after=194d\n",
      "https://api.pushshift.io/reddit/search/submission/?subreddit=adidas&size=500&after=195d\n",
      "https://api.pushshift.io/reddit/search/submission/?subreddit=adidas&size=500&after=196d\n",
      "https://api.pushshift.io/reddit/search/submission/?subreddit=adidas&size=500&after=197d\n",
      "https://api.pushshift.io/reddit/search/submission/?subreddit=adidas&size=500&after=198d\n",
      "https://api.pushshift.io/reddit/search/submission/?subreddit=adidas&size=500&after=199d\n",
      "https://api.pushshift.io/reddit/search/submission/?subreddit=adidas&size=500&after=200d\n",
      "(734, 9)\n"
     ]
    }
   ],
   "source": [
    "adidas_7 = query_pushshift('adidas', kind='submission', skip=1, times=200, start=101)"
   ]
  },
  {
   "cell_type": "code",
   "execution_count": 14,
   "metadata": {
    "scrolled": true
   },
   "outputs": [
    {
     "data": {
      "text/html": [
       "<div>\n",
       "<style scoped>\n",
       "    .dataframe tbody tr th:only-of-type {\n",
       "        vertical-align: middle;\n",
       "    }\n",
       "\n",
       "    .dataframe tbody tr th {\n",
       "        vertical-align: top;\n",
       "    }\n",
       "\n",
       "    .dataframe thead th {\n",
       "        text-align: right;\n",
       "    }\n",
       "</style>\n",
       "<table border=\"1\" class=\"dataframe\">\n",
       "  <thead>\n",
       "    <tr style=\"text-align: right;\">\n",
       "      <th></th>\n",
       "      <th>title</th>\n",
       "      <th>selftext</th>\n",
       "      <th>subreddit</th>\n",
       "      <th>created_utc</th>\n",
       "      <th>author</th>\n",
       "      <th>num_comments</th>\n",
       "      <th>score</th>\n",
       "      <th>is_self</th>\n",
       "      <th>timestamp</th>\n",
       "    </tr>\n",
       "  </thead>\n",
       "  <tbody>\n",
       "    <tr>\n",
       "      <td>9</td>\n",
       "      <td>What’s Nike’s equivalent to adidas Originals?</td>\n",
       "      <td></td>\n",
       "      <td>Nike</td>\n",
       "      <td>1571256682</td>\n",
       "      <td>jcrll</td>\n",
       "      <td>0</td>\n",
       "      <td>1</td>\n",
       "      <td>True</td>\n",
       "      <td>2019-10-16</td>\n",
       "    </tr>\n",
       "    <tr>\n",
       "      <td>3</td>\n",
       "      <td>What do you guys think of the Oreo vapormax</td>\n",
       "      <td></td>\n",
       "      <td>Nike</td>\n",
       "      <td>1571101448</td>\n",
       "      <td>bananasoup15</td>\n",
       "      <td>0</td>\n",
       "      <td>1</td>\n",
       "      <td>True</td>\n",
       "      <td>2019-10-14</td>\n",
       "    </tr>\n",
       "    <tr>\n",
       "      <td>4</td>\n",
       "      <td>Day of the Dead Air Force 1</td>\n",
       "      <td>Does anyone have a clue when these are droppin...</td>\n",
       "      <td>Nike</td>\n",
       "      <td>1571108207</td>\n",
       "      <td>luka_dg_</td>\n",
       "      <td>2</td>\n",
       "      <td>1</td>\n",
       "      <td>True</td>\n",
       "      <td>2019-10-14</td>\n",
       "    </tr>\n",
       "    <tr>\n",
       "      <td>6</td>\n",
       "      <td>My friend makes custom Air Force 1s, and I thi...</td>\n",
       "      <td>G and I grew up together, and I think you all ...</td>\n",
       "      <td>Nike</td>\n",
       "      <td>1571119373</td>\n",
       "      <td>moldyunions</td>\n",
       "      <td>0</td>\n",
       "      <td>1</td>\n",
       "      <td>True</td>\n",
       "      <td>2019-10-15</td>\n",
       "    </tr>\n",
       "    <tr>\n",
       "      <td>7</td>\n",
       "      <td>How much toe space should i have with nike vap...</td>\n",
       "      <td>I have one thumb space but the shoe still feel...</td>\n",
       "      <td>Nike</td>\n",
       "      <td>1571126534</td>\n",
       "      <td>Lesi159</td>\n",
       "      <td>0</td>\n",
       "      <td>1</td>\n",
       "      <td>True</td>\n",
       "      <td>2019-10-15</td>\n",
       "    </tr>\n",
       "  </tbody>\n",
       "</table>\n",
       "</div>"
      ],
      "text/plain": [
       "                                               title  \\\n",
       "9      What’s Nike’s equivalent to adidas Originals?   \n",
       "3        What do you guys think of the Oreo vapormax   \n",
       "4                        Day of the Dead Air Force 1   \n",
       "6  My friend makes custom Air Force 1s, and I thi...   \n",
       "7  How much toe space should i have with nike vap...   \n",
       "\n",
       "                                            selftext subreddit  created_utc  \\\n",
       "9                                                         Nike   1571256682   \n",
       "3                                                         Nike   1571101448   \n",
       "4  Does anyone have a clue when these are droppin...      Nike   1571108207   \n",
       "6  G and I grew up together, and I think you all ...      Nike   1571119373   \n",
       "7  I have one thumb space but the shoe still feel...      Nike   1571126534   \n",
       "\n",
       "         author  num_comments  score  is_self   timestamp  \n",
       "9         jcrll             0      1     True  2019-10-16  \n",
       "3  bananasoup15             0      1     True  2019-10-14  \n",
       "4      luka_dg_             2      1     True  2019-10-14  \n",
       "6   moldyunions             0      1     True  2019-10-15  \n",
       "7       Lesi159             0      1     True  2019-10-15  "
      ]
     },
     "execution_count": 14,
     "metadata": {},
     "output_type": "execute_result"
    }
   ],
   "source": [
    "nike_6.head()"
   ]
  },
  {
   "cell_type": "code",
   "execution_count": 27,
   "metadata": {
    "scrolled": true
   },
   "outputs": [],
   "source": [
    "brands = pd.read_csv('./data/brands.csv')"
   ]
  },
  {
   "cell_type": "code",
   "execution_count": 28,
   "metadata": {},
   "outputs": [
    {
     "data": {
      "text/html": [
       "<div>\n",
       "<style scoped>\n",
       "    .dataframe tbody tr th:only-of-type {\n",
       "        vertical-align: middle;\n",
       "    }\n",
       "\n",
       "    .dataframe tbody tr th {\n",
       "        vertical-align: top;\n",
       "    }\n",
       "\n",
       "    .dataframe thead th {\n",
       "        text-align: right;\n",
       "    }\n",
       "</style>\n",
       "<table border=\"1\" class=\"dataframe\">\n",
       "  <thead>\n",
       "    <tr style=\"text-align: right;\">\n",
       "      <th></th>\n",
       "      <th>Unnamed: 0</th>\n",
       "      <th>title</th>\n",
       "      <th>selftext</th>\n",
       "      <th>subreddit</th>\n",
       "      <th>created_utc</th>\n",
       "      <th>author</th>\n",
       "      <th>num_comments</th>\n",
       "      <th>score</th>\n",
       "      <th>is_self</th>\n",
       "      <th>timestamp</th>\n",
       "    </tr>\n",
       "  </thead>\n",
       "  <tbody>\n",
       "    <tr>\n",
       "      <td>0</td>\n",
       "      <td>2</td>\n",
       "      <td>Are womens sizes the same as mens for Nike M2K...</td>\n",
       "      <td>There is a particular colour of Nike M2K train...</td>\n",
       "      <td>Nike</td>\n",
       "      <td>1568401703</td>\n",
       "      <td>johnnyredneat</td>\n",
       "      <td>1</td>\n",
       "      <td>0</td>\n",
       "      <td>True</td>\n",
       "      <td>2019-09-13</td>\n",
       "    </tr>\n",
       "    <tr>\n",
       "      <td>1</td>\n",
       "      <td>3</td>\n",
       "      <td>Laces</td>\n",
       "      <td>What kind of laces does the FoG Raid comes wit...</td>\n",
       "      <td>Nike</td>\n",
       "      <td>1568406910</td>\n",
       "      <td>Hoxton_0451</td>\n",
       "      <td>0</td>\n",
       "      <td>0</td>\n",
       "      <td>True</td>\n",
       "      <td>2019-09-13</td>\n",
       "    </tr>\n",
       "    <tr>\n",
       "      <td>2</td>\n",
       "      <td>7</td>\n",
       "      <td>Sizing question on buying men’s for women. Siz...</td>\n",
       "      <td>Soo I had been eyeing the women’s Nike Air Max...</td>\n",
       "      <td>Nike</td>\n",
       "      <td>1568443108</td>\n",
       "      <td>buzzbuzzbih</td>\n",
       "      <td>3</td>\n",
       "      <td>0</td>\n",
       "      <td>True</td>\n",
       "      <td>2019-09-14</td>\n",
       "    </tr>\n",
       "    <tr>\n",
       "      <td>3</td>\n",
       "      <td>10</td>\n",
       "      <td>Trying to remember a hoodie or shirt Drake wore</td>\n",
       "      <td>i remember seeing pictures of drake wearing a ...</td>\n",
       "      <td>Nike</td>\n",
       "      <td>1568486842</td>\n",
       "      <td>perpetualpies</td>\n",
       "      <td>3</td>\n",
       "      <td>0</td>\n",
       "      <td>True</td>\n",
       "      <td>2019-09-14</td>\n",
       "    </tr>\n",
       "    <tr>\n",
       "      <td>4</td>\n",
       "      <td>13</td>\n",
       "      <td>Thankyou to my Nike tanjuns</td>\n",
       "      <td>http://imgur.com/a/uVOw8g8\\n\\nThey lasted me s...</td>\n",
       "      <td>Nike</td>\n",
       "      <td>1568497739</td>\n",
       "      <td>adeptwarrior</td>\n",
       "      <td>0</td>\n",
       "      <td>0</td>\n",
       "      <td>True</td>\n",
       "      <td>2019-09-14</td>\n",
       "    </tr>\n",
       "  </tbody>\n",
       "</table>\n",
       "</div>"
      ],
      "text/plain": [
       "   Unnamed: 0                                              title  \\\n",
       "0           2  Are womens sizes the same as mens for Nike M2K...   \n",
       "1           3                                              Laces   \n",
       "2           7  Sizing question on buying men’s for women. Siz...   \n",
       "3          10    Trying to remember a hoodie or shirt Drake wore   \n",
       "4          13                        Thankyou to my Nike tanjuns   \n",
       "\n",
       "                                            selftext subreddit  created_utc  \\\n",
       "0  There is a particular colour of Nike M2K train...      Nike   1568401703   \n",
       "1  What kind of laces does the FoG Raid comes wit...      Nike   1568406910   \n",
       "2  Soo I had been eyeing the women’s Nike Air Max...      Nike   1568443108   \n",
       "3  i remember seeing pictures of drake wearing a ...      Nike   1568486842   \n",
       "4  http://imgur.com/a/uVOw8g8\\n\\nThey lasted me s...      Nike   1568497739   \n",
       "\n",
       "          author  num_comments  score  is_self   timestamp  \n",
       "0  johnnyredneat             1      0     True  2019-09-13  \n",
       "1    Hoxton_0451             0      0     True  2019-09-13  \n",
       "2    buzzbuzzbih             3      0     True  2019-09-14  \n",
       "3  perpetualpies             3      0     True  2019-09-14  \n",
       "4   adeptwarrior             0      0     True  2019-09-14  "
      ]
     },
     "execution_count": 28,
     "metadata": {},
     "output_type": "execute_result"
    }
   ],
   "source": [
    "brands.head()"
   ]
  },
  {
   "cell_type": "code",
   "execution_count": 30,
   "metadata": {},
   "outputs": [],
   "source": [
    "brands.drop('Unnamed: 0', axis=1, inplace=True)"
   ]
  },
  {
   "cell_type": "code",
   "execution_count": 31,
   "metadata": {},
   "outputs": [
    {
     "data": {
      "text/html": [
       "<div>\n",
       "<style scoped>\n",
       "    .dataframe tbody tr th:only-of-type {\n",
       "        vertical-align: middle;\n",
       "    }\n",
       "\n",
       "    .dataframe tbody tr th {\n",
       "        vertical-align: top;\n",
       "    }\n",
       "\n",
       "    .dataframe thead th {\n",
       "        text-align: right;\n",
       "    }\n",
       "</style>\n",
       "<table border=\"1\" class=\"dataframe\">\n",
       "  <thead>\n",
       "    <tr style=\"text-align: right;\">\n",
       "      <th></th>\n",
       "      <th>title</th>\n",
       "      <th>selftext</th>\n",
       "      <th>subreddit</th>\n",
       "      <th>created_utc</th>\n",
       "      <th>author</th>\n",
       "      <th>num_comments</th>\n",
       "      <th>score</th>\n",
       "      <th>is_self</th>\n",
       "      <th>timestamp</th>\n",
       "    </tr>\n",
       "  </thead>\n",
       "  <tbody>\n",
       "    <tr>\n",
       "      <td>0</td>\n",
       "      <td>Are womens sizes the same as mens for Nike M2K...</td>\n",
       "      <td>There is a particular colour of Nike M2K train...</td>\n",
       "      <td>Nike</td>\n",
       "      <td>1568401703</td>\n",
       "      <td>johnnyredneat</td>\n",
       "      <td>1</td>\n",
       "      <td>0</td>\n",
       "      <td>True</td>\n",
       "      <td>2019-09-13</td>\n",
       "    </tr>\n",
       "    <tr>\n",
       "      <td>1</td>\n",
       "      <td>Laces</td>\n",
       "      <td>What kind of laces does the FoG Raid comes wit...</td>\n",
       "      <td>Nike</td>\n",
       "      <td>1568406910</td>\n",
       "      <td>Hoxton_0451</td>\n",
       "      <td>0</td>\n",
       "      <td>0</td>\n",
       "      <td>True</td>\n",
       "      <td>2019-09-13</td>\n",
       "    </tr>\n",
       "    <tr>\n",
       "      <td>2</td>\n",
       "      <td>Sizing question on buying men’s for women. Siz...</td>\n",
       "      <td>Soo I had been eyeing the women’s Nike Air Max...</td>\n",
       "      <td>Nike</td>\n",
       "      <td>1568443108</td>\n",
       "      <td>buzzbuzzbih</td>\n",
       "      <td>3</td>\n",
       "      <td>0</td>\n",
       "      <td>True</td>\n",
       "      <td>2019-09-14</td>\n",
       "    </tr>\n",
       "    <tr>\n",
       "      <td>3</td>\n",
       "      <td>Trying to remember a hoodie or shirt Drake wore</td>\n",
       "      <td>i remember seeing pictures of drake wearing a ...</td>\n",
       "      <td>Nike</td>\n",
       "      <td>1568486842</td>\n",
       "      <td>perpetualpies</td>\n",
       "      <td>3</td>\n",
       "      <td>0</td>\n",
       "      <td>True</td>\n",
       "      <td>2019-09-14</td>\n",
       "    </tr>\n",
       "    <tr>\n",
       "      <td>4</td>\n",
       "      <td>Thankyou to my Nike tanjuns</td>\n",
       "      <td>http://imgur.com/a/uVOw8g8\\n\\nThey lasted me s...</td>\n",
       "      <td>Nike</td>\n",
       "      <td>1568497739</td>\n",
       "      <td>adeptwarrior</td>\n",
       "      <td>0</td>\n",
       "      <td>0</td>\n",
       "      <td>True</td>\n",
       "      <td>2019-09-14</td>\n",
       "    </tr>\n",
       "  </tbody>\n",
       "</table>\n",
       "</div>"
      ],
      "text/plain": [
       "                                               title  \\\n",
       "0  Are womens sizes the same as mens for Nike M2K...   \n",
       "1                                              Laces   \n",
       "2  Sizing question on buying men’s for women. Siz...   \n",
       "3    Trying to remember a hoodie or shirt Drake wore   \n",
       "4                        Thankyou to my Nike tanjuns   \n",
       "\n",
       "                                            selftext subreddit  created_utc  \\\n",
       "0  There is a particular colour of Nike M2K train...      Nike   1568401703   \n",
       "1  What kind of laces does the FoG Raid comes wit...      Nike   1568406910   \n",
       "2  Soo I had been eyeing the women’s Nike Air Max...      Nike   1568443108   \n",
       "3  i remember seeing pictures of drake wearing a ...      Nike   1568486842   \n",
       "4  http://imgur.com/a/uVOw8g8\\n\\nThey lasted me s...      Nike   1568497739   \n",
       "\n",
       "          author  num_comments  score  is_self   timestamp  \n",
       "0  johnnyredneat             1      0     True  2019-09-13  \n",
       "1    Hoxton_0451             0      0     True  2019-09-13  \n",
       "2    buzzbuzzbih             3      0     True  2019-09-14  \n",
       "3  perpetualpies             3      0     True  2019-09-14  \n",
       "4   adeptwarrior             0      0     True  2019-09-14  "
      ]
     },
     "execution_count": 31,
     "metadata": {},
     "output_type": "execute_result"
    }
   ],
   "source": [
    "brands.head()"
   ]
  },
  {
   "cell_type": "code",
   "execution_count": 29,
   "metadata": {},
   "outputs": [
    {
     "data": {
      "text/html": [
       "<div>\n",
       "<style scoped>\n",
       "    .dataframe tbody tr th:only-of-type {\n",
       "        vertical-align: middle;\n",
       "    }\n",
       "\n",
       "    .dataframe tbody tr th {\n",
       "        vertical-align: top;\n",
       "    }\n",
       "\n",
       "    .dataframe thead th {\n",
       "        text-align: right;\n",
       "    }\n",
       "</style>\n",
       "<table border=\"1\" class=\"dataframe\">\n",
       "  <thead>\n",
       "    <tr style=\"text-align: right;\">\n",
       "      <th></th>\n",
       "      <th>title</th>\n",
       "      <th>selftext</th>\n",
       "      <th>subreddit</th>\n",
       "      <th>created_utc</th>\n",
       "      <th>author</th>\n",
       "      <th>num_comments</th>\n",
       "      <th>score</th>\n",
       "      <th>is_self</th>\n",
       "      <th>timestamp</th>\n",
       "    </tr>\n",
       "  </thead>\n",
       "  <tbody>\n",
       "    <tr>\n",
       "      <td>2</td>\n",
       "      <td>I’m curious what are your favorite shoes you o...</td>\n",
       "      <td></td>\n",
       "      <td>adidas</td>\n",
       "      <td>1571191097</td>\n",
       "      <td>Large_Canteloupe</td>\n",
       "      <td>11</td>\n",
       "      <td>1</td>\n",
       "      <td>True</td>\n",
       "      <td>2019-10-15</td>\n",
       "    </tr>\n",
       "    <tr>\n",
       "      <td>3</td>\n",
       "      <td>Are adissage slides permanently changed?</td>\n",
       "      <td>Second time I’m getting a pair online and it’s...</td>\n",
       "      <td>adidas</td>\n",
       "      <td>1571194873</td>\n",
       "      <td>tashnag</td>\n",
       "      <td>1</td>\n",
       "      <td>1</td>\n",
       "      <td>True</td>\n",
       "      <td>2019-10-15</td>\n",
       "    </tr>\n",
       "    <tr>\n",
       "      <td>5</td>\n",
       "      <td>Help with Swift Run shoes</td>\n",
       "      <td>I'm size 11 (US) shoes and got these at 11 but...</td>\n",
       "      <td>adidas</td>\n",
       "      <td>1571200231</td>\n",
       "      <td>BritishBukkake</td>\n",
       "      <td>1</td>\n",
       "      <td>1</td>\n",
       "      <td>True</td>\n",
       "      <td>2019-10-16</td>\n",
       "    </tr>\n",
       "    <tr>\n",
       "      <td>6</td>\n",
       "      <td>Tiro 15</td>\n",
       "      <td>Anyone know where I can buy some adidas tiro 1...</td>\n",
       "      <td>adidas</td>\n",
       "      <td>1571201663</td>\n",
       "      <td>Jonmtz</td>\n",
       "      <td>3</td>\n",
       "      <td>1</td>\n",
       "      <td>True</td>\n",
       "      <td>2019-10-16</td>\n",
       "    </tr>\n",
       "    <tr>\n",
       "      <td>7</td>\n",
       "      <td>420 on heel strap</td>\n",
       "      <td>Was wondering if there is reason for the 420 o...</td>\n",
       "      <td>adidas</td>\n",
       "      <td>1571227773</td>\n",
       "      <td>toke10</td>\n",
       "      <td>2</td>\n",
       "      <td>1</td>\n",
       "      <td>True</td>\n",
       "      <td>2019-10-16</td>\n",
       "    </tr>\n",
       "  </tbody>\n",
       "</table>\n",
       "</div>"
      ],
      "text/plain": [
       "                                               title  \\\n",
       "2  I’m curious what are your favorite shoes you o...   \n",
       "3           Are adissage slides permanently changed?   \n",
       "5                          Help with Swift Run shoes   \n",
       "6                                            Tiro 15   \n",
       "7                                  420 on heel strap   \n",
       "\n",
       "                                            selftext subreddit  created_utc  \\\n",
       "2                                                       adidas   1571191097   \n",
       "3  Second time I’m getting a pair online and it’s...    adidas   1571194873   \n",
       "5  I'm size 11 (US) shoes and got these at 11 but...    adidas   1571200231   \n",
       "6  Anyone know where I can buy some adidas tiro 1...    adidas   1571201663   \n",
       "7  Was wondering if there is reason for the 420 o...    adidas   1571227773   \n",
       "\n",
       "             author  num_comments  score  is_self   timestamp  \n",
       "2  Large_Canteloupe            11      1     True  2019-10-15  \n",
       "3           tashnag             1      1     True  2019-10-15  \n",
       "5    BritishBukkake             1      1     True  2019-10-16  \n",
       "6            Jonmtz             3      1     True  2019-10-16  \n",
       "7            toke10             2      1     True  2019-10-16  "
      ]
     },
     "execution_count": 29,
     "metadata": {},
     "output_type": "execute_result"
    }
   ],
   "source": [
    "adidas_6.head()"
   ]
  },
  {
   "cell_type": "code",
   "execution_count": 32,
   "metadata": {},
   "outputs": [
    {
     "data": {
      "text/plain": [
       "(12214, 9)"
      ]
     },
     "execution_count": 32,
     "metadata": {},
     "output_type": "execute_result"
    }
   ],
   "source": [
    "brands.shape"
   ]
  },
  {
   "cell_type": "code",
   "execution_count": 33,
   "metadata": {
    "scrolled": true
   },
   "outputs": [],
   "source": [
    "brands = pd.concat([brands, adidas_6])"
   ]
  },
  {
   "cell_type": "code",
   "execution_count": 34,
   "metadata": {
    "scrolled": false
   },
   "outputs": [
    {
     "data": {
      "text/plain": [
       "(12607, 9)"
      ]
     },
     "execution_count": 34,
     "metadata": {},
     "output_type": "execute_result"
    }
   ],
   "source": [
    "brands.shape"
   ]
  },
  {
   "cell_type": "code",
   "execution_count": 35,
   "metadata": {
    "scrolled": true
   },
   "outputs": [],
   "source": [
    "brands = pd.concat([brands, adidas_7])"
   ]
  },
  {
   "cell_type": "code",
   "execution_count": 36,
   "metadata": {
    "scrolled": true
   },
   "outputs": [],
   "source": [
    "brands = pd.concat([brands, nike_6])"
   ]
  },
  {
   "cell_type": "code",
   "execution_count": 37,
   "metadata": {
    "scrolled": true
   },
   "outputs": [],
   "source": [
    "brands = pd.concat([brands, adidas_7])"
   ]
  },
  {
   "cell_type": "code",
   "execution_count": 38,
   "metadata": {
    "scrolled": true
   },
   "outputs": [
    {
     "data": {
      "text/plain": [
       "(14549, 9)"
      ]
     },
     "execution_count": 38,
     "metadata": {},
     "output_type": "execute_result"
    }
   ],
   "source": [
    "brands.shape"
   ]
  },
  {
   "cell_type": "code",
   "execution_count": 39,
   "metadata": {
    "scrolled": true
   },
   "outputs": [
    {
     "data": {
      "text/html": [
       "<div>\n",
       "<style scoped>\n",
       "    .dataframe tbody tr th:only-of-type {\n",
       "        vertical-align: middle;\n",
       "    }\n",
       "\n",
       "    .dataframe tbody tr th {\n",
       "        vertical-align: top;\n",
       "    }\n",
       "\n",
       "    .dataframe thead th {\n",
       "        text-align: right;\n",
       "    }\n",
       "</style>\n",
       "<table border=\"1\" class=\"dataframe\">\n",
       "  <thead>\n",
       "    <tr style=\"text-align: right;\">\n",
       "      <th></th>\n",
       "      <th>title</th>\n",
       "      <th>selftext</th>\n",
       "      <th>subreddit</th>\n",
       "      <th>created_utc</th>\n",
       "      <th>author</th>\n",
       "      <th>num_comments</th>\n",
       "      <th>score</th>\n",
       "      <th>is_self</th>\n",
       "      <th>timestamp</th>\n",
       "    </tr>\n",
       "  </thead>\n",
       "  <tbody>\n",
       "    <tr>\n",
       "      <td>0</td>\n",
       "      <td>Are womens sizes the same as mens for Nike M2K...</td>\n",
       "      <td>There is a particular colour of Nike M2K train...</td>\n",
       "      <td>Nike</td>\n",
       "      <td>1568401703</td>\n",
       "      <td>johnnyredneat</td>\n",
       "      <td>1</td>\n",
       "      <td>0</td>\n",
       "      <td>True</td>\n",
       "      <td>2019-09-13</td>\n",
       "    </tr>\n",
       "    <tr>\n",
       "      <td>1</td>\n",
       "      <td>Laces</td>\n",
       "      <td>What kind of laces does the FoG Raid comes wit...</td>\n",
       "      <td>Nike</td>\n",
       "      <td>1568406910</td>\n",
       "      <td>Hoxton_0451</td>\n",
       "      <td>0</td>\n",
       "      <td>0</td>\n",
       "      <td>True</td>\n",
       "      <td>2019-09-13</td>\n",
       "    </tr>\n",
       "    <tr>\n",
       "      <td>2</td>\n",
       "      <td>Sizing question on buying men’s for women. Siz...</td>\n",
       "      <td>Soo I had been eyeing the women’s Nike Air Max...</td>\n",
       "      <td>Nike</td>\n",
       "      <td>1568443108</td>\n",
       "      <td>buzzbuzzbih</td>\n",
       "      <td>3</td>\n",
       "      <td>0</td>\n",
       "      <td>True</td>\n",
       "      <td>2019-09-14</td>\n",
       "    </tr>\n",
       "    <tr>\n",
       "      <td>3</td>\n",
       "      <td>Trying to remember a hoodie or shirt Drake wore</td>\n",
       "      <td>i remember seeing pictures of drake wearing a ...</td>\n",
       "      <td>Nike</td>\n",
       "      <td>1568486842</td>\n",
       "      <td>perpetualpies</td>\n",
       "      <td>3</td>\n",
       "      <td>0</td>\n",
       "      <td>True</td>\n",
       "      <td>2019-09-14</td>\n",
       "    </tr>\n",
       "    <tr>\n",
       "      <td>4</td>\n",
       "      <td>Thankyou to my Nike tanjuns</td>\n",
       "      <td>http://imgur.com/a/uVOw8g8\\n\\nThey lasted me s...</td>\n",
       "      <td>Nike</td>\n",
       "      <td>1568497739</td>\n",
       "      <td>adeptwarrior</td>\n",
       "      <td>0</td>\n",
       "      <td>0</td>\n",
       "      <td>True</td>\n",
       "      <td>2019-09-14</td>\n",
       "    </tr>\n",
       "    <tr>\n",
       "      <td>...</td>\n",
       "      <td>...</td>\n",
       "      <td>...</td>\n",
       "      <td>...</td>\n",
       "      <td>...</td>\n",
       "      <td>...</td>\n",
       "      <td>...</td>\n",
       "      <td>...</td>\n",
       "      <td>...</td>\n",
       "      <td>...</td>\n",
       "    </tr>\n",
       "    <tr>\n",
       "      <td>11</td>\n",
       "      <td>Alphabounce Instinct good for running?</td>\n",
       "      <td>Hi guys, I've just started running and began h...</td>\n",
       "      <td>adidas</td>\n",
       "      <td>1554201491</td>\n",
       "      <td>Pesh60</td>\n",
       "      <td>7</td>\n",
       "      <td>2</td>\n",
       "      <td>True</td>\n",
       "      <td>2019-04-02</td>\n",
       "    </tr>\n",
       "    <tr>\n",
       "      <td>0</td>\n",
       "      <td>Searching for Adidas jacket!</td>\n",
       "      <td>Hey guys, my girlfriend has been searching one...</td>\n",
       "      <td>adidas</td>\n",
       "      <td>1554039278</td>\n",
       "      <td>veruem</td>\n",
       "      <td>1</td>\n",
       "      <td>1</td>\n",
       "      <td>True</td>\n",
       "      <td>2019-03-31</td>\n",
       "    </tr>\n",
       "    <tr>\n",
       "      <td>2</td>\n",
       "      <td>ZX 500</td>\n",
       "      <td>Does ANYONE on here own ZX 500s? Specifically ...</td>\n",
       "      <td>adidas</td>\n",
       "      <td>1554045064</td>\n",
       "      <td>SeanicTheHedgehog23</td>\n",
       "      <td>4</td>\n",
       "      <td>2</td>\n",
       "      <td>True</td>\n",
       "      <td>2019-03-31</td>\n",
       "    </tr>\n",
       "    <tr>\n",
       "      <td>4</td>\n",
       "      <td>Ordered Yeezy with different cards but same bi...</td>\n",
       "      <td>I recently ordered adidas clay V2 with the sam...</td>\n",
       "      <td>adidas</td>\n",
       "      <td>1554053440</td>\n",
       "      <td>NewbieCasanova</td>\n",
       "      <td>1</td>\n",
       "      <td>2</td>\n",
       "      <td>True</td>\n",
       "      <td>2019-03-31</td>\n",
       "    </tr>\n",
       "    <tr>\n",
       "      <td>7</td>\n",
       "      <td>Help Identify Adidas Pants or Shorts</td>\n",
       "      <td>Can anybody help me identify these adidas pant...</td>\n",
       "      <td>adidas</td>\n",
       "      <td>1554076354</td>\n",
       "      <td>CooperBooker</td>\n",
       "      <td>1</td>\n",
       "      <td>3</td>\n",
       "      <td>True</td>\n",
       "      <td>2019-03-31</td>\n",
       "    </tr>\n",
       "  </tbody>\n",
       "</table>\n",
       "<p>14549 rows × 9 columns</p>\n",
       "</div>"
      ],
      "text/plain": [
       "                                                title  \\\n",
       "0   Are womens sizes the same as mens for Nike M2K...   \n",
       "1                                               Laces   \n",
       "2   Sizing question on buying men’s for women. Siz...   \n",
       "3     Trying to remember a hoodie or shirt Drake wore   \n",
       "4                         Thankyou to my Nike tanjuns   \n",
       "..                                                ...   \n",
       "11             Alphabounce Instinct good for running?   \n",
       "0                        Searching for Adidas jacket!   \n",
       "2                                              ZX 500   \n",
       "4   Ordered Yeezy with different cards but same bi...   \n",
       "7                Help Identify Adidas Pants or Shorts   \n",
       "\n",
       "                                             selftext subreddit  created_utc  \\\n",
       "0   There is a particular colour of Nike M2K train...      Nike   1568401703   \n",
       "1   What kind of laces does the FoG Raid comes wit...      Nike   1568406910   \n",
       "2   Soo I had been eyeing the women’s Nike Air Max...      Nike   1568443108   \n",
       "3   i remember seeing pictures of drake wearing a ...      Nike   1568486842   \n",
       "4   http://imgur.com/a/uVOw8g8\\n\\nThey lasted me s...      Nike   1568497739   \n",
       "..                                                ...       ...          ...   \n",
       "11  Hi guys, I've just started running and began h...    adidas   1554201491   \n",
       "0   Hey guys, my girlfriend has been searching one...    adidas   1554039278   \n",
       "2   Does ANYONE on here own ZX 500s? Specifically ...    adidas   1554045064   \n",
       "4   I recently ordered adidas clay V2 with the sam...    adidas   1554053440   \n",
       "7   Can anybody help me identify these adidas pant...    adidas   1554076354   \n",
       "\n",
       "                 author  num_comments  score  is_self   timestamp  \n",
       "0         johnnyredneat             1      0     True  2019-09-13  \n",
       "1           Hoxton_0451             0      0     True  2019-09-13  \n",
       "2           buzzbuzzbih             3      0     True  2019-09-14  \n",
       "3         perpetualpies             3      0     True  2019-09-14  \n",
       "4          adeptwarrior             0      0     True  2019-09-14  \n",
       "..                  ...           ...    ...      ...         ...  \n",
       "11               Pesh60             7      2     True  2019-04-02  \n",
       "0                veruem             1      1     True  2019-03-31  \n",
       "2   SeanicTheHedgehog23             4      2     True  2019-03-31  \n",
       "4        NewbieCasanova             1      2     True  2019-03-31  \n",
       "7          CooperBooker             1      3     True  2019-03-31  \n",
       "\n",
       "[14549 rows x 9 columns]"
      ]
     },
     "execution_count": 39,
     "metadata": {},
     "output_type": "execute_result"
    }
   ],
   "source": [
    "brands"
   ]
  },
  {
   "cell_type": "code",
   "execution_count": 41,
   "metadata": {
    "scrolled": true
   },
   "outputs": [],
   "source": [
    "brands = brands.drop_duplicates()"
   ]
  },
  {
   "cell_type": "code",
   "execution_count": 42,
   "metadata": {
    "scrolled": true
   },
   "outputs": [],
   "source": [
    "brands.to_csv('./data/brands.csv')"
   ]
  }
 ],
 "metadata": {
  "kernelspec": {
   "display_name": "Python 3",
   "language": "python",
   "name": "python3"
  },
  "language_info": {
   "codemirror_mode": {
    "name": "ipython",
    "version": 3
   },
   "file_extension": ".py",
   "mimetype": "text/x-python",
   "name": "python",
   "nbconvert_exporter": "python",
   "pygments_lexer": "ipython3",
   "version": "3.7.3"
  }
 },
 "nbformat": 4,
 "nbformat_minor": 2
}
